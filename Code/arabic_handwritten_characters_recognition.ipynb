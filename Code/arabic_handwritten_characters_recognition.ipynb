{
  "cells": [
    {
      "cell_type": "code",
      "execution_count": null,
      "metadata": {
        "execution": {
          "iopub.execute_input": "2022-03-25T03:36:15.780974Z",
          "iopub.status.busy": "2022-03-25T03:36:15.780570Z",
          "iopub.status.idle": "2022-03-25T03:36:21.459567Z",
          "shell.execute_reply": "2022-03-25T03:36:21.458595Z",
          "shell.execute_reply.started": "2022-03-25T03:36:15.780857Z"
        },
        "id": "9IfLA-y2gO_9"
      },
      "outputs": [],
      "source": [
        "# Imports\n",
        "import numpy as np\n",
        "import pandas as pd\n",
        "import matplotlib.pyplot as plt\n",
        "%matplotlib inline\n",
        "import seaborn as sns\n",
        "from pathlib import Path\n",
        "from PIL import Image\n",
        "import os\n",
        "\n",
        "## Preprocessing\n",
        "from sklearn.preprocessing import StandardScaler\n",
        "from sklearn.model_selection import train_test_split\n",
        "\n",
        "## tensorflow & Keras\n",
        "import tensorflow as tf\n",
        "from keras.preprocessing.image import ImageDataGenerator\n",
        "from keras.models import Model\n",
        "\n",
        "from tensorflow.keras.preprocessing.image import ImageDataGenerator,load_img,img_to_array"
      ]
    },
    {
      "cell_type": "code",
      "execution_count": null,
      "metadata": {
        "id": "PvCg5X_9hQ-g"
      },
      "outputs": [],
      "source": [
        "from zipfile import ZipFile\n",
        "with ZipFile('/dataset/train.zip', 'r') as zip:\n",
        "    # printing all the contents of the zip file\n",
        "    zip.printdir()\n",
        "  \n",
        "    # extracting all the files\n",
        "    print('Extracting all the files now...')\n",
        "    zip.extractall()\n",
        "    print('Done!')"
      ]
    },
    {
      "cell_type": "code",
      "execution_count": null,
      "metadata": {},
      "outputs": [],
      "source": [
        "from zipfile import ZipFile\n",
        "with ZipFile('/dataset/test.zip', 'r') as zip:\n",
        "    # printing all the contents of the zip file\n",
        "    zip.printdir()\n",
        "  \n",
        "    # extracting all the files\n",
        "    print('Extracting all the files now...')\n",
        "    zip.extractall()\n",
        "    print('Done!')"
      ]
    },
    {
      "cell_type": "code",
      "execution_count": null,
      "metadata": {
        "colab": {
          "base_uri": "https://localhost:8080/",
          "height": 206
        },
        "execution": {
          "iopub.execute_input": "2022-03-25T03:36:21.464434Z",
          "iopub.status.busy": "2022-03-25T03:36:21.464112Z",
          "iopub.status.idle": "2022-03-25T03:36:21.521720Z",
          "shell.execute_reply": "2022-03-25T03:36:21.520474Z",
          "shell.execute_reply.started": "2022-03-25T03:36:21.464391Z"
        },
        "id": "LYMJB3SugPAG",
        "outputId": "fc05e3f0-f1b6-45a9-e7ef-d993a7897fd5"
      },
      "outputs": [
        {
          "data": {
            "text/html": [
              "\n",
              "  <div id=\"df-763406b2-797e-49c2-aced-8b3ccbffa5a7\">\n",
              "    <div class=\"colab-df-container\">\n",
              "      <div>\n",
              "<style scoped>\n",
              "    .dataframe tbody tr th:only-of-type {\n",
              "        vertical-align: middle;\n",
              "    }\n",
              "\n",
              "    .dataframe tbody tr th {\n",
              "        vertical-align: top;\n",
              "    }\n",
              "\n",
              "    .dataframe thead th {\n",
              "        text-align: right;\n",
              "    }\n",
              "</style>\n",
              "<table border=\"1\" class=\"dataframe\">\n",
              "  <thead>\n",
              "    <tr style=\"text-align: right;\">\n",
              "      <th></th>\n",
              "      <th>id</th>\n",
              "      <th>label</th>\n",
              "    </tr>\n",
              "  </thead>\n",
              "  <tbody>\n",
              "    <tr>\n",
              "      <th>0</th>\n",
              "      <td>0</td>\n",
              "      <td>24</td>\n",
              "    </tr>\n",
              "    <tr>\n",
              "      <th>1</th>\n",
              "      <td>1</td>\n",
              "      <td>2</td>\n",
              "    </tr>\n",
              "    <tr>\n",
              "      <th>2</th>\n",
              "      <td>2</td>\n",
              "      <td>17</td>\n",
              "    </tr>\n",
              "    <tr>\n",
              "      <th>3</th>\n",
              "      <td>3</td>\n",
              "      <td>14</td>\n",
              "    </tr>\n",
              "    <tr>\n",
              "      <th>4</th>\n",
              "      <td>4</td>\n",
              "      <td>19</td>\n",
              "    </tr>\n",
              "  </tbody>\n",
              "</table>\n",
              "</div>\n",
              "      <button class=\"colab-df-convert\" onclick=\"convertToInteractive('df-763406b2-797e-49c2-aced-8b3ccbffa5a7')\"\n",
              "              title=\"Convert this dataframe to an interactive table.\"\n",
              "              style=\"display:none;\">\n",
              "        \n",
              "  <svg xmlns=\"http://www.w3.org/2000/svg\" height=\"24px\"viewBox=\"0 0 24 24\"\n",
              "       width=\"24px\">\n",
              "    <path d=\"M0 0h24v24H0V0z\" fill=\"none\"/>\n",
              "    <path d=\"M18.56 5.44l.94 2.06.94-2.06 2.06-.94-2.06-.94-.94-2.06-.94 2.06-2.06.94zm-11 1L8.5 8.5l.94-2.06 2.06-.94-2.06-.94L8.5 2.5l-.94 2.06-2.06.94zm10 10l.94 2.06.94-2.06 2.06-.94-2.06-.94-.94-2.06-.94 2.06-2.06.94z\"/><path d=\"M17.41 7.96l-1.37-1.37c-.4-.4-.92-.59-1.43-.59-.52 0-1.04.2-1.43.59L10.3 9.45l-7.72 7.72c-.78.78-.78 2.05 0 2.83L4 21.41c.39.39.9.59 1.41.59.51 0 1.02-.2 1.41-.59l7.78-7.78 2.81-2.81c.8-.78.8-2.07 0-2.86zM5.41 20L4 18.59l7.72-7.72 1.47 1.35L5.41 20z\"/>\n",
              "  </svg>\n",
              "      </button>\n",
              "      \n",
              "  <style>\n",
              "    .colab-df-container {\n",
              "      display:flex;\n",
              "      flex-wrap:wrap;\n",
              "      gap: 12px;\n",
              "    }\n",
              "\n",
              "    .colab-df-convert {\n",
              "      background-color: #E8F0FE;\n",
              "      border: none;\n",
              "      border-radius: 50%;\n",
              "      cursor: pointer;\n",
              "      display: none;\n",
              "      fill: #1967D2;\n",
              "      height: 32px;\n",
              "      padding: 0 0 0 0;\n",
              "      width: 32px;\n",
              "    }\n",
              "\n",
              "    .colab-df-convert:hover {\n",
              "      background-color: #E2EBFA;\n",
              "      box-shadow: 0px 1px 2px rgba(60, 64, 67, 0.3), 0px 1px 3px 1px rgba(60, 64, 67, 0.15);\n",
              "      fill: #174EA6;\n",
              "    }\n",
              "\n",
              "    [theme=dark] .colab-df-convert {\n",
              "      background-color: #3B4455;\n",
              "      fill: #D2E3FC;\n",
              "    }\n",
              "\n",
              "    [theme=dark] .colab-df-convert:hover {\n",
              "      background-color: #434B5C;\n",
              "      box-shadow: 0px 1px 3px 1px rgba(0, 0, 0, 0.15);\n",
              "      filter: drop-shadow(0px 1px 2px rgba(0, 0, 0, 0.3));\n",
              "      fill: #FFFFFF;\n",
              "    }\n",
              "  </style>\n",
              "\n",
              "      <script>\n",
              "        const buttonEl =\n",
              "          document.querySelector('#df-763406b2-797e-49c2-aced-8b3ccbffa5a7 button.colab-df-convert');\n",
              "        buttonEl.style.display =\n",
              "          google.colab.kernel.accessAllowed ? 'block' : 'none';\n",
              "\n",
              "        async function convertToInteractive(key) {\n",
              "          const element = document.querySelector('#df-763406b2-797e-49c2-aced-8b3ccbffa5a7');\n",
              "          const dataTable =\n",
              "            await google.colab.kernel.invokeFunction('convertToInteractive',\n",
              "                                                     [key], {});\n",
              "          if (!dataTable) return;\n",
              "\n",
              "          const docLinkHtml = 'Like what you see? Visit the ' +\n",
              "            '<a target=\"_blank\" href=https://colab.research.google.com/notebooks/data_table.ipynb>data table notebook</a>'\n",
              "            + ' to learn more about interactive tables.';\n",
              "          element.innerHTML = '';\n",
              "          dataTable['output_type'] = 'display_data';\n",
              "          await google.colab.output.renderOutput(dataTable, element);\n",
              "          const docLink = document.createElement('div');\n",
              "          docLink.innerHTML = docLinkHtml;\n",
              "          element.appendChild(docLink);\n",
              "        }\n",
              "      </script>\n",
              "    </div>\n",
              "  </div>\n",
              "  "
            ],
            "text/plain": [
              "   id  label\n",
              "0   0     24\n",
              "1   1      2\n",
              "2   2     17\n",
              "3   3     14\n",
              "4   4     19"
            ]
          },
          "execution_count": 4,
          "metadata": {},
          "output_type": "execute_result"
        }
      ],
      "source": [
        "train_df = pd.read_csv('/dataset/train.csv')\n",
        "train_df.head()"
      ]
    },
    {
      "cell_type": "code",
      "execution_count": null,
      "metadata": {
        "colab": {
          "base_uri": "https://localhost:8080/"
        },
        "execution": {
          "iopub.execute_input": "2022-03-25T03:36:21.524381Z",
          "iopub.status.busy": "2022-03-25T03:36:21.523989Z",
          "iopub.status.idle": "2022-03-25T03:36:21.532692Z",
          "shell.execute_reply": "2022-03-25T03:36:21.531962Z",
          "shell.execute_reply.started": "2022-03-25T03:36:21.524347Z"
        },
        "id": "3SiimdQugPAI",
        "outputId": "46976784-27d4-4973-84b4-5eda01797cbe"
      },
      "outputs": [
        {
          "data": {
            "text/plain": [
              "28"
            ]
          },
          "execution_count": 5,
          "metadata": {},
          "output_type": "execute_result"
        }
      ],
      "source": [
        "alpha = 'أ ب ت ث ج ح خ د ذ ر ز س ش ص ض ط ظ ع غ ف ق ك ل م ن هـ و ي'\n",
        "alpha = alpha.split()\n",
        "m = {i+1: alpha[i] for i in range(len(alpha))}\n",
        "len(alpha)"
      ]
    },
    {
      "cell_type": "code",
      "execution_count": null,
      "metadata": {
        "colab": {
          "base_uri": "https://localhost:8080/",
          "height": 206
        },
        "execution": {
          "iopub.execute_input": "2022-03-25T03:36:21.537210Z",
          "iopub.status.busy": "2022-03-25T03:36:21.536232Z",
          "iopub.status.idle": "2022-03-25T03:36:21.555954Z",
          "shell.execute_reply": "2022-03-25T03:36:21.555359Z",
          "shell.execute_reply.started": "2022-03-25T03:36:21.537172Z"
        },
        "id": "9wh4qzeKgPAK",
        "outputId": "9ada3bc7-a397-487c-e9e5-c0fcf484abce"
      },
      "outputs": [
        {
          "data": {
            "text/html": [
              "\n",
              "  <div id=\"df-8c03630e-5e33-4399-88ca-85381cfbb315\">\n",
              "    <div class=\"colab-df-container\">\n",
              "      <div>\n",
              "<style scoped>\n",
              "    .dataframe tbody tr th:only-of-type {\n",
              "        vertical-align: middle;\n",
              "    }\n",
              "\n",
              "    .dataframe tbody tr th {\n",
              "        vertical-align: top;\n",
              "    }\n",
              "\n",
              "    .dataframe thead th {\n",
              "        text-align: right;\n",
              "    }\n",
              "</style>\n",
              "<table border=\"1\" class=\"dataframe\">\n",
              "  <thead>\n",
              "    <tr style=\"text-align: right;\">\n",
              "      <th></th>\n",
              "      <th>id</th>\n",
              "      <th>label</th>\n",
              "      <th>alpha</th>\n",
              "    </tr>\n",
              "  </thead>\n",
              "  <tbody>\n",
              "    <tr>\n",
              "      <th>0</th>\n",
              "      <td>0</td>\n",
              "      <td>24</td>\n",
              "      <td>م</td>\n",
              "    </tr>\n",
              "    <tr>\n",
              "      <th>1</th>\n",
              "      <td>1</td>\n",
              "      <td>2</td>\n",
              "      <td>ب</td>\n",
              "    </tr>\n",
              "    <tr>\n",
              "      <th>2</th>\n",
              "      <td>2</td>\n",
              "      <td>17</td>\n",
              "      <td>ظ</td>\n",
              "    </tr>\n",
              "    <tr>\n",
              "      <th>3</th>\n",
              "      <td>3</td>\n",
              "      <td>14</td>\n",
              "      <td>ص</td>\n",
              "    </tr>\n",
              "    <tr>\n",
              "      <th>4</th>\n",
              "      <td>4</td>\n",
              "      <td>19</td>\n",
              "      <td>غ</td>\n",
              "    </tr>\n",
              "  </tbody>\n",
              "</table>\n",
              "</div>\n",
              "      <button class=\"colab-df-convert\" onclick=\"convertToInteractive('df-8c03630e-5e33-4399-88ca-85381cfbb315')\"\n",
              "              title=\"Convert this dataframe to an interactive table.\"\n",
              "              style=\"display:none;\">\n",
              "        \n",
              "  <svg xmlns=\"http://www.w3.org/2000/svg\" height=\"24px\"viewBox=\"0 0 24 24\"\n",
              "       width=\"24px\">\n",
              "    <path d=\"M0 0h24v24H0V0z\" fill=\"none\"/>\n",
              "    <path d=\"M18.56 5.44l.94 2.06.94-2.06 2.06-.94-2.06-.94-.94-2.06-.94 2.06-2.06.94zm-11 1L8.5 8.5l.94-2.06 2.06-.94-2.06-.94L8.5 2.5l-.94 2.06-2.06.94zm10 10l.94 2.06.94-2.06 2.06-.94-2.06-.94-.94-2.06-.94 2.06-2.06.94z\"/><path d=\"M17.41 7.96l-1.37-1.37c-.4-.4-.92-.59-1.43-.59-.52 0-1.04.2-1.43.59L10.3 9.45l-7.72 7.72c-.78.78-.78 2.05 0 2.83L4 21.41c.39.39.9.59 1.41.59.51 0 1.02-.2 1.41-.59l7.78-7.78 2.81-2.81c.8-.78.8-2.07 0-2.86zM5.41 20L4 18.59l7.72-7.72 1.47 1.35L5.41 20z\"/>\n",
              "  </svg>\n",
              "      </button>\n",
              "      \n",
              "  <style>\n",
              "    .colab-df-container {\n",
              "      display:flex;\n",
              "      flex-wrap:wrap;\n",
              "      gap: 12px;\n",
              "    }\n",
              "\n",
              "    .colab-df-convert {\n",
              "      background-color: #E8F0FE;\n",
              "      border: none;\n",
              "      border-radius: 50%;\n",
              "      cursor: pointer;\n",
              "      display: none;\n",
              "      fill: #1967D2;\n",
              "      height: 32px;\n",
              "      padding: 0 0 0 0;\n",
              "      width: 32px;\n",
              "    }\n",
              "\n",
              "    .colab-df-convert:hover {\n",
              "      background-color: #E2EBFA;\n",
              "      box-shadow: 0px 1px 2px rgba(60, 64, 67, 0.3), 0px 1px 3px 1px rgba(60, 64, 67, 0.15);\n",
              "      fill: #174EA6;\n",
              "    }\n",
              "\n",
              "    [theme=dark] .colab-df-convert {\n",
              "      background-color: #3B4455;\n",
              "      fill: #D2E3FC;\n",
              "    }\n",
              "\n",
              "    [theme=dark] .colab-df-convert:hover {\n",
              "      background-color: #434B5C;\n",
              "      box-shadow: 0px 1px 3px 1px rgba(0, 0, 0, 0.15);\n",
              "      filter: drop-shadow(0px 1px 2px rgba(0, 0, 0, 0.3));\n",
              "      fill: #FFFFFF;\n",
              "    }\n",
              "  </style>\n",
              "\n",
              "      <script>\n",
              "        const buttonEl =\n",
              "          document.querySelector('#df-8c03630e-5e33-4399-88ca-85381cfbb315 button.colab-df-convert');\n",
              "        buttonEl.style.display =\n",
              "          google.colab.kernel.accessAllowed ? 'block' : 'none';\n",
              "\n",
              "        async function convertToInteractive(key) {\n",
              "          const element = document.querySelector('#df-8c03630e-5e33-4399-88ca-85381cfbb315');\n",
              "          const dataTable =\n",
              "            await google.colab.kernel.invokeFunction('convertToInteractive',\n",
              "                                                     [key], {});\n",
              "          if (!dataTable) return;\n",
              "\n",
              "          const docLinkHtml = 'Like what you see? Visit the ' +\n",
              "            '<a target=\"_blank\" href=https://colab.research.google.com/notebooks/data_table.ipynb>data table notebook</a>'\n",
              "            + ' to learn more about interactive tables.';\n",
              "          element.innerHTML = '';\n",
              "          dataTable['output_type'] = 'display_data';\n",
              "          await google.colab.output.renderOutput(dataTable, element);\n",
              "          const docLink = document.createElement('div');\n",
              "          docLink.innerHTML = docLinkHtml;\n",
              "          element.appendChild(docLink);\n",
              "        }\n",
              "      </script>\n",
              "    </div>\n",
              "  </div>\n",
              "  "
            ],
            "text/plain": [
              "   id  label alpha\n",
              "0   0     24     م\n",
              "1   1      2     ب\n",
              "2   2     17     ظ\n",
              "3   3     14     ص\n",
              "4   4     19     غ"
            ]
          },
          "execution_count": 6,
          "metadata": {},
          "output_type": "execute_result"
        }
      ],
      "source": [
        "train_df['alpha'] = train_df.label.map(m)\n",
        "\n",
        "train_df.head()\n"
      ]
    },
    {
      "cell_type": "code",
      "execution_count": null,
      "metadata": {
        "execution": {
          "iopub.execute_input": "2022-03-25T03:36:21.557242Z",
          "iopub.status.busy": "2022-03-25T03:36:21.556933Z",
          "iopub.status.idle": "2022-03-25T03:36:21.561915Z",
          "shell.execute_reply": "2022-03-25T03:36:21.561242Z",
          "shell.execute_reply.started": "2022-03-25T03:36:21.557207Z"
        },
        "id": "sS-_CkbsgPAL"
      },
      "outputs": [],
      "source": [
        "\n",
        "train_imagas_path = Path(r'/dataset/train')\n",
        "\n"
      ]
    },
    {
      "cell_type": "code",
      "execution_count": null,
      "metadata": {
        "colab": {
          "base_uri": "https://localhost:8080/"
        },
        "execution": {
          "iopub.execute_input": "2022-03-25T03:36:21.563851Z",
          "iopub.status.busy": "2022-03-25T03:36:21.563358Z",
          "iopub.status.idle": "2022-03-25T03:36:22.812488Z",
          "shell.execute_reply": "2022-03-25T03:36:22.811811Z",
          "shell.execute_reply.started": "2022-03-25T03:36:21.563816Z"
        },
        "id": "cFOpdd4dgPAL",
        "outputId": "2c059cfc-573c-4ab8-ca0b-4ab63a3cafe1"
      },
      "outputs": [
        {
          "data": {
            "text/plain": [
              "0    /content/train/00000.png\n",
              "1    /content/train/00001.png\n",
              "2    /content/train/00002.png\n",
              "3    /content/train/00003.png\n",
              "4    /content/train/00004.png\n",
              "Name: Filepath, dtype: object"
            ]
          },
          "execution_count": 9,
          "metadata": {},
          "output_type": "execute_result"
        }
      ],
      "source": [
        "## read these all training images paths as Series\n",
        "train_images_paths = pd.Series(sorted(list(train_imagas_path.glob(r'*.png'))), name='Filepath').astype(str)\n",
        "\n",
        "train_images_paths.head()\n"
      ]
    },
    {
      "cell_type": "code",
      "execution_count": null,
      "metadata": {
        "colab": {
          "base_uri": "https://localhost:8080/",
          "height": 469
        },
        "execution": {
          "iopub.execute_input": "2022-03-25T03:36:22.814090Z",
          "iopub.status.busy": "2022-03-25T03:36:22.813820Z",
          "iopub.status.idle": "2022-03-25T03:36:24.267492Z",
          "shell.execute_reply": "2022-03-25T03:36:24.266722Z",
          "shell.execute_reply.started": "2022-03-25T03:36:22.814043Z"
        },
        "id": "5tnpdvzogPAN",
        "outputId": "0856fdba-7e50-4632-acb0-c8e4ca45fcd7"
      },
      "outputs": [
        {
          "data": {
            "image/png": "[encoded data removed]",
            "text/plain": [
              "<Figure size 864x576 with 28 Axes>"
            ]
          },
          "metadata": {
            "needs_background": "light"
          },
          "output_type": "display_data"
        }
      ],
      "source": [
        "img_key_value = {}\n",
        "for value in train_df['alpha'].unique():\n",
        "    img_key_value[value] = train_df[train_df['alpha']==value].index[0]\n",
        "    \n",
        "img_index = list(img_key_value.values())\n",
        "img_label = list(img_key_value.keys())\n",
        "\n",
        "fig, ax = plt.subplots(4, 7, figsize=(12, 8))\n",
        "\n",
        "i = 0\n",
        "for row in range(4):\n",
        "    for col in range(7):\n",
        "        plt.sca(ax[row, col])\n",
        "        plt.title(f'label = {img_label[i]}')\n",
        "        img = plt.imread(train_images_paths.iloc[img_index[i]])\n",
        "        plt.imshow(img)\n",
        "        plt.axis('off')\n",
        "        i+=1"
      ]
    },
    {
      "cell_type": "code",
      "execution_count": null,
      "metadata": {
        "colab": {
          "base_uri": "https://localhost:8080/"
        },
        "execution": {
          "iopub.execute_input": "2022-03-25T03:36:24.268779Z",
          "iopub.status.busy": "2022-03-25T03:36:24.268538Z",
          "iopub.status.idle": "2022-03-25T03:36:24.276352Z",
          "shell.execute_reply": "2022-03-25T03:36:24.275402Z",
          "shell.execute_reply.started": "2022-03-25T03:36:24.268744Z"
        },
        "id": "Ha_qWmCwgPAP",
        "outputId": "2daaaefe-b772-481b-d112-ecf7c599ee96"
      },
      "outputs": [
        {
          "name": "stdout",
          "output_type": "stream",
          "text": [
            "shape of each Image is => (32, 32, 4)\n"
          ]
        }
      ],
      "source": [
        "img = plt.imread(train_images_paths.iloc[img_index[0]])\n",
        "print('shape of each Image is =>', img.shape)"
      ]
    },
    {
      "cell_type": "markdown",
      "metadata": {
        "id": "J16X0OtTgPAQ"
      },
      "source": [
        "**From the previous EDA we can conclude that we can take only the first 3 channels and some data augmentation techniques may make the model performs better.**"
      ]
    },
    {
      "cell_type": "code",
      "execution_count": null,
      "metadata": {
        "colab": {
          "base_uri": "https://localhost:8080/"
        },
        "execution": {
          "iopub.execute_input": "2022-03-25T03:36:24.278975Z",
          "iopub.status.busy": "2022-03-25T03:36:24.278159Z",
          "iopub.status.idle": "2022-03-25T03:38:05.173501Z",
          "shell.execute_reply": "2022-03-25T03:38:05.172748Z",
          "shell.execute_reply.started": "2022-03-25T03:36:24.278923Z"
        },
        "id": "Si5O31IOgPAU",
        "outputId": "b7fc7b88-cb60-4283-f99f-9b4a5bab9410"
      },
      "outputs": [
        {
          "name": "stdout",
          "output_type": "stream",
          "text": [
            "train_full_set.shape => (13440, 32, 32, 3)\n",
            "train_full_labels.shape => (13440,)\n"
          ]
        }
      ],
      "source": [
        "\n",
        "train_full_labels = train_df['label'].values\n",
        "train_full_set = np.empty((13440, 32, 32, 3), dtype=np.float32)  #take only the first 3 channels\n",
        "\n",
        "for idx, path in enumerate(train_images_paths):\n",
        "    img = plt.imread(path)\n",
        "    img = img[:,:,:3]\n",
        "    train_full_set[idx] = img\n",
        "\n",
        "print('train_full_set.shape =>', train_full_set.shape)\n",
        "print('train_full_labels.shape =>', train_full_labels.shape)\n"
      ]
    },
    {
      "cell_type": "code",
      "execution_count": null,
      "metadata": {
        "colab": {
          "base_uri": "https://localhost:8080/"
        },
        "execution": {
          "iopub.execute_input": "2022-03-25T03:38:05.176470Z",
          "iopub.status.busy": "2022-03-25T03:38:05.176218Z",
          "iopub.status.idle": "2022-03-25T03:38:05.234804Z",
          "shell.execute_reply": "2022-03-25T03:38:05.234063Z",
          "shell.execute_reply.started": "2022-03-25T03:38:05.176433Z"
        },
        "id": "cEwz74e1gPAW",
        "outputId": "5a53720e-b70f-404d-b9e1-cdcad4906c47"
      },
      "outputs": [
        {
          "name": "stdout",
          "output_type": "stream",
          "text": [
            "X_train.shape => (10752, 32, 32, 3)\n",
            "X_valid.shape => (2688, 32, 32, 3)\n",
            "y_train.shape => (10752,)\n",
            "y_valid.shape => (2688,)\n"
          ]
        }
      ],
      "source": [
        "X_train, X_valid, y_train, y_valid = train_test_split(train_full_set, train_full_labels, test_size=0.2, shuffle=True, random_state=42)\n",
        "\n",
        "print('X_train.shape =>', X_train.shape)\n",
        "print('X_valid.shape =>', X_valid.shape)\n",
        "print('y_train.shape =>', y_train.shape)\n",
        "print('y_valid.shape =>', y_valid.shape)"
      ]
    },
    {
      "cell_type": "markdown",
      "metadata": {
        "id": "UzPBcoR3gPAX"
      },
      "source": [
        "# **Modeling**"
      ]
    },
    {
      "cell_type": "code",
      "execution_count": null,
      "metadata": {
        "execution": {
          "iopub.execute_input": "2022-03-25T03:38:05.236378Z",
          "iopub.status.busy": "2022-03-25T03:38:05.235934Z",
          "iopub.status.idle": "2022-03-25T03:38:07.856251Z",
          "shell.execute_reply": "2022-03-25T03:38:07.855393Z",
          "shell.execute_reply.started": "2022-03-25T03:38:05.236338Z"
        },
        "id": "XKqFYsTNgPAX"
      },
      "outputs": [],
      "source": [
        "model = tf.keras.models.Sequential([\n",
        "    tf.keras.layers.Conv2D(filters=64, kernel_size=3, activation='relu',input_shape=(32, 32, 3)),\n",
        "    tf.keras.layers.Conv2D(filters=64, kernel_size=3, activation='relu', padding=\"same\"),\n",
        "    tf.keras.layers.Conv2D(filters=64, kernel_size=3, activation='relu', padding=\"same\"),\n",
        "    tf.keras.layers.MaxPooling2D(pool_size=2,strides=(1, 1)),\n",
        "    \n",
        "    tf.keras.layers.Conv2D(filters=128, kernel_size=3, activation='relu',padding=\"same\"),\n",
        "    tf.keras.layers.Conv2D(filters=128, kernel_size=3, padding=\"valid\", activation='relu'),\n",
        "    tf.keras.layers.MaxPooling2D(pool_size=2,strides=(1, 1)),\n",
        "     \n",
        "    tf.keras.layers.Conv2D(filters=256, kernel_size=3, activation='relu',padding=\"same\" ),\n",
        "    tf.keras.layers.Conv2D(filters=256, kernel_size=3, padding=\"valid\", activation='relu'),\n",
        "    tf.keras.layers.MaxPooling2D(pool_size=2,strides=(1, 1)),\n",
        "    \n",
        "    tf.keras.layers.Flatten(),\n",
        "    tf.keras.layers.Dropout(0.5),\n",
        "    tf.keras.layers.Dense(29, activation='softmax')\n",
        " \n",
        "])"
      ]
    },
    {
      "cell_type": "code",
      "execution_count": null,
      "metadata": {
        "colab": {
          "base_uri": "https://localhost:8080/"
        },
        "execution": {
          "iopub.execute_input": "2022-03-25T03:38:07.858204Z",
          "iopub.status.busy": "2022-03-25T03:38:07.857379Z",
          "iopub.status.idle": "2022-03-25T03:38:09.758998Z",
          "shell.execute_reply": "2022-03-25T03:38:09.758285Z",
          "shell.execute_reply.started": "2022-03-25T03:38:07.858167Z"
        },
        "id": "4fwPPiOVgPAZ",
        "outputId": "42c95c70-edfa-42c4-f227-ef5e953aa525"
      },
      "outputs": [
        {
          "name": "stdout",
          "output_type": "stream",
          "text": [
            "WARNING:tensorflow:Compiled the loaded model, but the compiled metrics have yet to be built. `model.compile_metrics` will be empty until you train or evaluate the model.\n",
            "INFO:tensorflow:Assets written to: ../Model/assets\n",
            "WARNING:tensorflow:No training configuration found in save file, so the model was *not* compiled. Compile it manually.\n"
          ]
        }
      ],
      "source": [
        "model.save('../Model') #Save model for further use\n",
        "model1 = tf.keras.models.load_model('../Model')\n",
        "model1.compile(loss='sparse_categorical_crossentropy', optimizer='adam', metrics=['accuracy'])"
      ]
    },
    {
      "cell_type": "code",
      "execution_count": null,
      "metadata": {
        "colab": {
          "base_uri": "https://localhost:8080/"
        },
        "execution": {
          "iopub.execute_input": "2022-03-25T03:38:10.422752Z",
          "iopub.status.busy": "2022-03-25T03:38:10.422512Z",
          "iopub.status.idle": "2022-03-25T03:46:33.373905Z",
          "shell.execute_reply": "2022-03-25T03:46:33.373056Z",
          "shell.execute_reply.started": "2022-03-25T03:38:10.422720Z"
        },
        "id": "t8QykYcAgPAa",
        "outputId": "d8964b14-906a-4137-a0ad-e51b414908f6"
      },
      "outputs": [
        {
          "name": "stdout",
          "output_type": "stream",
          "text": [
            "Epoch 1/100\n",
            "84/84 [==============================] - 31s 231ms/step - loss: 2.1653 - accuracy: 0.3563 - val_loss: 1.2759 - val_accuracy: 0.5878\n",
            "Epoch 2/100\n",
            "84/84 [==============================] - 19s 226ms/step - loss: 0.8311 - accuracy: 0.7414 - val_loss: 0.5917 - val_accuracy: 0.8218\n",
            "Epoch 3/100\n",
            "84/84 [==============================] - 19s 226ms/step - loss: 0.4577 - accuracy: 0.8570 - val_loss: 0.4121 - val_accuracy: 0.8806\n",
            "Epoch 4/100\n",
            "84/84 [==============================] - 19s 226ms/step - loss: 0.2772 - accuracy: 0.9121 - val_loss: 0.3266 - val_accuracy: 0.9044\n",
            "Epoch 5/100\n",
            "84/84 [==============================] - 19s 225ms/step - loss: 0.1982 - accuracy: 0.9379 - val_loss: 0.3265 - val_accuracy: 0.9126\n",
            "Epoch 6/100\n",
            "84/84 [==============================] - 19s 226ms/step - loss: 0.1560 - accuracy: 0.9469 - val_loss: 0.2801 - val_accuracy: 0.9152\n",
            "Epoch 7/100\n",
            "84/84 [==============================] - 19s 225ms/step - loss: 0.0970 - accuracy: 0.9681 - val_loss: 0.2936 - val_accuracy: 0.9245\n",
            "Epoch 8/100\n",
            "84/84 [==============================] - 19s 225ms/step - loss: 0.0868 - accuracy: 0.9711 - val_loss: 0.3401 - val_accuracy: 0.9249\n",
            "Epoch 9/100\n",
            "84/84 [==============================] - 20s 239ms/step - loss: 0.0777 - accuracy: 0.9736 - val_loss: 0.2790 - val_accuracy: 0.9271\n",
            "Epoch 10/100\n",
            "84/84 [==============================] - 19s 226ms/step - loss: 0.0659 - accuracy: 0.9769 - val_loss: 0.2864 - val_accuracy: 0.9260\n",
            "Epoch 11/100\n",
            "84/84 [==============================] - 20s 240ms/step - loss: 0.0512 - accuracy: 0.9811 - val_loss: 0.3512 - val_accuracy: 0.9375\n",
            "Epoch 12/100\n",
            "84/84 [==============================] - 19s 225ms/step - loss: 0.0547 - accuracy: 0.9821 - val_loss: 0.3253 - val_accuracy: 0.9304\n",
            "Epoch 13/100\n",
            "84/84 [==============================] - 19s 225ms/step - loss: 0.0395 - accuracy: 0.9859 - val_loss: 0.3689 - val_accuracy: 0.9308\n",
            "Epoch 14/100\n",
            "84/84 [==============================] - 20s 239ms/step - loss: 0.0381 - accuracy: 0.9875 - val_loss: 0.3164 - val_accuracy: 0.9386\n",
            "Epoch 15/100\n",
            "84/84 [==============================] - 19s 225ms/step - loss: 0.0274 - accuracy: 0.9910 - val_loss: 0.3540 - val_accuracy: 0.9330\n",
            "Epoch 16/100\n",
            "84/84 [==============================] - 20s 239ms/step - loss: 0.0401 - accuracy: 0.9874 - val_loss: 0.3458 - val_accuracy: 0.9301\n",
            "Epoch 17/100\n",
            "84/84 [==============================] - 19s 225ms/step - loss: 0.0348 - accuracy: 0.9876 - val_loss: 0.3401 - val_accuracy: 0.9386\n",
            "Epoch 18/100\n",
            "84/84 [==============================] - 20s 239ms/step - loss: 0.0384 - accuracy: 0.9875 - val_loss: 0.3290 - val_accuracy: 0.9405\n",
            "Epoch 19/100\n",
            "84/84 [==============================] - 20s 239ms/step - loss: 0.0288 - accuracy: 0.9906 - val_loss: 0.3040 - val_accuracy: 0.9435\n",
            "Epoch 20/100\n",
            "84/84 [==============================] - 19s 225ms/step - loss: 0.0242 - accuracy: 0.9911 - val_loss: 0.3406 - val_accuracy: 0.9342\n",
            "Epoch 21/100\n",
            "84/84 [==============================] - 19s 224ms/step - loss: 0.0285 - accuracy: 0.9903 - val_loss: 0.3805 - val_accuracy: 0.9356\n",
            "Epoch 22/100\n",
            "84/84 [==============================] - 20s 240ms/step - loss: 0.0398 - accuracy: 0.9873 - val_loss: 0.3103 - val_accuracy: 0.9405\n",
            "Epoch 23/100\n",
            "84/84 [==============================] - 20s 239ms/step - loss: 0.0213 - accuracy: 0.9926 - val_loss: 0.4336 - val_accuracy: 0.9345\n",
            "Epoch 24/100\n",
            "84/84 [==============================] - 20s 239ms/step - loss: 0.0353 - accuracy: 0.9881 - val_loss: 0.3194 - val_accuracy: 0.9368\n",
            "Epoch 25/100\n",
            "84/84 [==============================] - 19s 224ms/step - loss: 0.0320 - accuracy: 0.9893 - val_loss: 0.3828 - val_accuracy: 0.9319\n",
            "Epoch 26/100\n",
            "84/84 [==============================] - 19s 225ms/step - loss: 0.0239 - accuracy: 0.9925 - val_loss: 0.3294 - val_accuracy: 0.9453\n",
            "Epoch 27/100\n",
            "84/84 [==============================] - 19s 225ms/step - loss: 0.0346 - accuracy: 0.9880 - val_loss: 0.3592 - val_accuracy: 0.9431\n",
            "Epoch 28/100\n",
            "84/84 [==============================] - 20s 239ms/step - loss: 0.0150 - accuracy: 0.9941 - val_loss: 0.3571 - val_accuracy: 0.9435\n",
            "Epoch 29/100\n",
            "84/84 [==============================] - 20s 239ms/step - loss: 0.0433 - accuracy: 0.9860 - val_loss: 0.3006 - val_accuracy: 0.9401\n",
            "Epoch 30/100\n",
            "84/84 [==============================] - 19s 225ms/step - loss: 0.0237 - accuracy: 0.9916 - val_loss: 0.3412 - val_accuracy: 0.9345\n",
            "Epoch 31/100\n",
            "84/84 [==============================] - 19s 224ms/step - loss: 0.0157 - accuracy: 0.9949 - val_loss: 0.3327 - val_accuracy: 0.9397\n",
            "Epoch 32/100\n",
            "84/84 [==============================] - 19s 224ms/step - loss: 0.0105 - accuracy: 0.9964 - val_loss: 0.4142 - val_accuracy: 0.9427\n",
            "Epoch 33/100\n",
            "84/84 [==============================] - 20s 239ms/step - loss: 0.0219 - accuracy: 0.9921 - val_loss: 0.3446 - val_accuracy: 0.9472\n",
            "Epoch 34/100\n",
            "84/84 [==============================] - 19s 225ms/step - loss: 0.0139 - accuracy: 0.9957 - val_loss: 0.4274 - val_accuracy: 0.9360\n",
            "Epoch 35/100\n",
            "84/84 [==============================] - 19s 224ms/step - loss: 0.0410 - accuracy: 0.9874 - val_loss: 0.3321 - val_accuracy: 0.9353\n",
            "Epoch 36/100\n",
            "84/84 [==============================] - 20s 239ms/step - loss: 0.0229 - accuracy: 0.9919 - val_loss: 0.3287 - val_accuracy: 0.9382\n",
            "Epoch 37/100\n",
            "84/84 [==============================] - 20s 239ms/step - loss: 0.0154 - accuracy: 0.9949 - val_loss: 0.3331 - val_accuracy: 0.9483\n",
            "Epoch 38/100\n",
            "84/84 [==============================] - 20s 239ms/step - loss: 0.0255 - accuracy: 0.9917 - val_loss: 0.3433 - val_accuracy: 0.9420\n",
            "Epoch 39/100\n",
            "84/84 [==============================] - 19s 224ms/step - loss: 0.0135 - accuracy: 0.9951 - val_loss: 0.3268 - val_accuracy: 0.9487\n",
            "Epoch 40/100\n",
            "84/84 [==============================] - 20s 239ms/step - loss: 0.0106 - accuracy: 0.9966 - val_loss: 0.3709 - val_accuracy: 0.9446\n",
            "Epoch 41/100\n",
            "84/84 [==============================] - 20s 239ms/step - loss: 0.0199 - accuracy: 0.9925 - val_loss: 0.3542 - val_accuracy: 0.9453\n",
            "Epoch 42/100\n",
            "84/84 [==============================] - 19s 224ms/step - loss: 0.0249 - accuracy: 0.9920 - val_loss: 0.3055 - val_accuracy: 0.9501\n",
            "Epoch 43/100\n",
            "84/84 [==============================] - 19s 225ms/step - loss: 0.0123 - accuracy: 0.9962 - val_loss: 0.3465 - val_accuracy: 0.9442\n",
            "Epoch 44/100\n",
            "84/84 [==============================] - 20s 239ms/step - loss: 0.0063 - accuracy: 0.9982 - val_loss: 0.4280 - val_accuracy: 0.9505\n",
            "Epoch 45/100\n",
            "84/84 [==============================] - 20s 239ms/step - loss: 0.0078 - accuracy: 0.9976 - val_loss: 0.4175 - val_accuracy: 0.9427\n",
            "Epoch 46/100\n",
            "84/84 [==============================] - 19s 224ms/step - loss: 0.0267 - accuracy: 0.9905 - val_loss: 0.3366 - val_accuracy: 0.9435\n",
            "Epoch 47/100\n",
            "84/84 [==============================] - 19s 224ms/step - loss: 0.0224 - accuracy: 0.9927 - val_loss: 0.3244 - val_accuracy: 0.9468\n",
            "Epoch 48/100\n",
            "84/84 [==============================] - 19s 224ms/step - loss: 0.0272 - accuracy: 0.9922 - val_loss: 0.3144 - val_accuracy: 0.9479\n",
            "Epoch 49/100\n",
            "84/84 [==============================] - 20s 238ms/step - loss: 0.0083 - accuracy: 0.9978 - val_loss: 0.3557 - val_accuracy: 0.9535\n",
            "Epoch 50/100\n",
            "84/84 [==============================] - 20s 238ms/step - loss: 0.0094 - accuracy: 0.9970 - val_loss: 0.3711 - val_accuracy: 0.9487\n",
            "Epoch 51/100\n",
            "84/84 [==============================] - 19s 224ms/step - loss: 0.0100 - accuracy: 0.9967 - val_loss: 0.4390 - val_accuracy: 0.9453\n",
            "Epoch 52/100\n",
            "84/84 [==============================] - 19s 224ms/step - loss: 0.0161 - accuracy: 0.9944 - val_loss: 0.3805 - val_accuracy: 0.9494\n",
            "Epoch 53/100\n",
            "84/84 [==============================] - 19s 225ms/step - loss: 0.0115 - accuracy: 0.9962 - val_loss: 0.3574 - val_accuracy: 0.9461\n",
            "Epoch 54/100\n",
            "84/84 [==============================] - 20s 239ms/step - loss: 0.0085 - accuracy: 0.9971 - val_loss: 0.3486 - val_accuracy: 0.9498\n",
            "Epoch 55/100\n",
            "84/84 [==============================] - 19s 224ms/step - loss: 0.0144 - accuracy: 0.9951 - val_loss: 0.3778 - val_accuracy: 0.9505\n",
            "Epoch 56/100\n",
            "84/84 [==============================] - 19s 224ms/step - loss: 0.0221 - accuracy: 0.9935 - val_loss: 0.4305 - val_accuracy: 0.9297\n",
            "Epoch 57/100\n",
            "84/84 [==============================] - 20s 239ms/step - loss: 0.0356 - accuracy: 0.9891 - val_loss: 0.3855 - val_accuracy: 0.9330\n",
            "Epoch 58/100\n",
            "84/84 [==============================] - 20s 239ms/step - loss: 0.0131 - accuracy: 0.9961 - val_loss: 0.3673 - val_accuracy: 0.9438\n",
            "Epoch 59/100\n",
            "84/84 [==============================] - 19s 224ms/step - loss: 0.0123 - accuracy: 0.9954 - val_loss: 0.4032 - val_accuracy: 0.9487\n",
            "Epoch 60/100\n",
            "84/84 [==============================] - 19s 224ms/step - loss: 0.0098 - accuracy: 0.9968 - val_loss: 0.3202 - val_accuracy: 0.9535\n",
            "Epoch 61/100\n",
            "84/84 [==============================] - 19s 224ms/step - loss: 0.0055 - accuracy: 0.9980 - val_loss: 0.4288 - val_accuracy: 0.9461\n",
            "Epoch 62/100\n",
            "84/84 [==============================] - 20s 239ms/step - loss: 0.0459 - accuracy: 0.9862 - val_loss: 0.3312 - val_accuracy: 0.9446\n",
            "Epoch 63/100\n",
            "84/84 [==============================] - 20s 239ms/step - loss: 0.0147 - accuracy: 0.9947 - val_loss: 0.3639 - val_accuracy: 0.9408\n",
            "Epoch 64/100\n",
            "84/84 [==============================] - 20s 239ms/step - loss: 0.0076 - accuracy: 0.9976 - val_loss: 0.3515 - val_accuracy: 0.9542\n",
            "Epoch 65/100\n",
            "84/84 [==============================] - 19s 225ms/step - loss: 0.0039 - accuracy: 0.9989 - val_loss: 0.3846 - val_accuracy: 0.9568\n",
            "Epoch 66/100\n",
            "84/84 [==============================] - 20s 239ms/step - loss: 0.0047 - accuracy: 0.9986 - val_loss: 0.4263 - val_accuracy: 0.9453\n",
            "Epoch 67/100\n",
            "84/84 [==============================] - 20s 239ms/step - loss: 0.0083 - accuracy: 0.9971 - val_loss: 0.3536 - val_accuracy: 0.9542\n",
            "Epoch 68/100\n",
            "84/84 [==============================] - 19s 225ms/step - loss: 0.0192 - accuracy: 0.9949 - val_loss: 0.4036 - val_accuracy: 0.9442\n",
            "Epoch 69/100\n",
            "84/84 [==============================] - 20s 239ms/step - loss: 0.0187 - accuracy: 0.9948 - val_loss: 0.3164 - val_accuracy: 0.9557\n",
            "Epoch 70/100\n",
            "84/84 [==============================] - 20s 239ms/step - loss: 0.0068 - accuracy: 0.9971 - val_loss: 0.3809 - val_accuracy: 0.9546\n",
            "Epoch 71/100\n",
            "84/84 [==============================] - 19s 224ms/step - loss: 0.0131 - accuracy: 0.9964 - val_loss: 0.4558 - val_accuracy: 0.9405\n",
            "Epoch 72/100\n",
            "84/84 [==============================] - 19s 224ms/step - loss: 0.0135 - accuracy: 0.9960 - val_loss: 0.4117 - val_accuracy: 0.9427\n",
            "Epoch 73/100\n",
            "84/84 [==============================] - 20s 238ms/step - loss: 0.0102 - accuracy: 0.9967 - val_loss: 0.3296 - val_accuracy: 0.9520\n",
            "Epoch 74/100\n",
            "84/84 [==============================] - 19s 224ms/step - loss: 0.0050 - accuracy: 0.9983 - val_loss: 0.3463 - val_accuracy: 0.9539\n",
            "Epoch 75/100\n",
            "84/84 [==============================] - 20s 239ms/step - loss: 0.0026 - accuracy: 0.9991 - val_loss: 0.3448 - val_accuracy: 0.9609\n",
            "Epoch 76/100\n",
            "84/84 [==============================] - 20s 239ms/step - loss: 0.0030 - accuracy: 0.9990 - val_loss: 0.4359 - val_accuracy: 0.9539\n",
            "Epoch 77/100\n",
            "84/84 [==============================] - 19s 224ms/step - loss: 0.0153 - accuracy: 0.9955 - val_loss: 0.5959 - val_accuracy: 0.9308\n",
            "Epoch 78/100\n",
            "84/84 [==============================] - 19s 225ms/step - loss: 0.0233 - accuracy: 0.9929 - val_loss: 0.3775 - val_accuracy: 0.9427\n",
            "Epoch 79/100\n",
            "84/84 [==============================] - 20s 239ms/step - loss: 0.0113 - accuracy: 0.9966 - val_loss: 0.3916 - val_accuracy: 0.9498\n",
            "Epoch 80/100\n",
            "84/84 [==============================] - 20s 239ms/step - loss: 0.0132 - accuracy: 0.9963 - val_loss: 0.4099 - val_accuracy: 0.9438\n",
            "Epoch 81/100\n",
            "84/84 [==============================] - 19s 224ms/step - loss: 0.0103 - accuracy: 0.9965 - val_loss: 0.3561 - val_accuracy: 0.9587\n",
            "Epoch 82/100\n",
            "84/84 [==============================] - 19s 224ms/step - loss: 0.0112 - accuracy: 0.9964 - val_loss: 0.4025 - val_accuracy: 0.9531\n",
            "Epoch 83/100\n",
            "84/84 [==============================] - 20s 239ms/step - loss: 0.0153 - accuracy: 0.9958 - val_loss: 0.4829 - val_accuracy: 0.9390\n",
            "Epoch 84/100\n",
            "84/84 [==============================] - 19s 224ms/step - loss: 0.0145 - accuracy: 0.9954 - val_loss: 0.4339 - val_accuracy: 0.9528\n",
            "Epoch 85/100\n",
            "84/84 [==============================] - 19s 224ms/step - loss: 0.0241 - accuracy: 0.9932 - val_loss: 0.3239 - val_accuracy: 0.9498\n",
            "Epoch 86/100\n",
            "84/84 [==============================] - 19s 224ms/step - loss: 0.0102 - accuracy: 0.9966 - val_loss: 0.3372 - val_accuracy: 0.9516\n",
            "Epoch 87/100\n",
            "84/84 [==============================] - 19s 224ms/step - loss: 0.0026 - accuracy: 0.9992 - val_loss: 0.3897 - val_accuracy: 0.9505\n",
            "Epoch 88/100\n",
            "84/84 [==============================] - 20s 239ms/step - loss: 0.0057 - accuracy: 0.9985 - val_loss: 0.3960 - val_accuracy: 0.9513\n",
            "Epoch 89/100\n",
            "84/84 [==============================] - 19s 224ms/step - loss: 0.0140 - accuracy: 0.9956 - val_loss: 0.4277 - val_accuracy: 0.9490\n",
            "Epoch 90/100\n",
            "84/84 [==============================] - 20s 239ms/step - loss: 0.0102 - accuracy: 0.9966 - val_loss: 0.3740 - val_accuracy: 0.9494\n",
            "Epoch 91/100\n",
            "84/84 [==============================] - 20s 239ms/step - loss: 0.0115 - accuracy: 0.9969 - val_loss: 0.3541 - val_accuracy: 0.9520\n",
            "Epoch 92/100\n",
            "84/84 [==============================] - 19s 224ms/step - loss: 0.0105 - accuracy: 0.9971 - val_loss: 0.3861 - val_accuracy: 0.9572\n",
            "Epoch 93/100\n",
            "84/84 [==============================] - 19s 225ms/step - loss: 0.0114 - accuracy: 0.9964 - val_loss: 0.4484 - val_accuracy: 0.9475\n",
            "Epoch 94/100\n",
            "84/84 [==============================] - 19s 224ms/step - loss: 0.0114 - accuracy: 0.9977 - val_loss: 0.3848 - val_accuracy: 0.9524\n",
            "Epoch 95/100\n",
            "84/84 [==============================] - 20s 239ms/step - loss: 0.0030 - accuracy: 0.9991 - val_loss: 0.3562 - val_accuracy: 0.9624\n",
            "Epoch 96/100\n",
            "84/84 [==============================] - 19s 224ms/step - loss: 0.0024 - accuracy: 0.9993 - val_loss: 0.3402 - val_accuracy: 0.9535\n",
            "Epoch 97/100\n",
            "84/84 [==============================] - 20s 238ms/step - loss: 0.0263 - accuracy: 0.9940 - val_loss: 0.5113 - val_accuracy: 0.9159\n",
            "Epoch 98/100\n",
            "84/84 [==============================] - 19s 225ms/step - loss: 0.0205 - accuracy: 0.9940 - val_loss: 0.3939 - val_accuracy: 0.9516\n",
            "Epoch 99/100\n",
            "84/84 [==============================] - 20s 238ms/step - loss: 0.0059 - accuracy: 0.9979 - val_loss: 0.4903 - val_accuracy: 0.9457\n",
            "Epoch 100/100\n",
            "84/84 [==============================] - 20s 239ms/step - loss: 0.0124 - accuracy: 0.9966 - val_loss: 0.4493 - val_accuracy: 0.9438\n"
          ]
        }
      ],
      "source": [
        "history = model1.fit(X_train, y_train, validation_data=(X_valid, y_valid), epochs=100, batch_size=128)"
      ]
    },
    {
      "cell_type": "markdown",
      "metadata": {
        "id": "la2Uiv_sgPAa"
      },
      "source": [
        "**Error Analysis**"
      ]
    },
    {
      "cell_type": "code",
      "execution_count": null,
      "metadata": {
        "colab": {
          "base_uri": "https://localhost:8080/",
          "height": 395
        },
        "execution": {
          "iopub.execute_input": "2022-03-25T03:46:33.375735Z",
          "iopub.status.busy": "2022-03-25T03:46:33.375385Z",
          "iopub.status.idle": "2022-03-25T03:46:33.602570Z",
          "shell.execute_reply": "2022-03-25T03:46:33.601915Z",
          "shell.execute_reply.started": "2022-03-25T03:46:33.375694Z"
        },
        "id": "YkMsal6ngPAb",
        "outputId": "8bb8c149-ca09-43f6-d973-ddae6ee3202e"
      },
      "outputs": [
        {
          "data": {
            "text/plain": [
              "(0.0, 1.0)"
            ]
          },
          "execution_count": 17,
          "metadata": {},
          "output_type": "execute_result"
        },
        {
          "data": {
            "image/png": "[encoded data removed]",
            "text/plain": [
              "<Figure size 720x432 with 1 Axes>"
            ]
          },
          "metadata": {
            "needs_background": "light"
          },
          "output_type": "display_data"
        }
      ],
      "source": [
        "subset = {key: history.history[key] for key in ['loss','val_loss']}\n",
        "ax = pd.DataFrame(subset).plot(figsize=(10, 6));\n",
        "ax.set_ylim(0,1)"
      ]
    },
    {
      "cell_type": "markdown",
      "metadata": {
        "id": "JSr7UUsmgPAc"
      },
      "source": [
        "**From the above figure we can conclude that there is a gap between training loss and validation loss which is interpreted as overfitting. So, we have to try applying data augmentation to reduce this overfitting**"
      ]
    },
    {
      "cell_type": "code",
      "execution_count": null,
      "metadata": {
        "colab": {
          "base_uri": "https://localhost:8080/"
        },
        "execution": {
          "iopub.execute_input": "2022-03-25T03:46:33.604422Z",
          "iopub.status.busy": "2022-03-25T03:46:33.603759Z",
          "iopub.status.idle": "2022-03-25T03:46:34.410987Z",
          "shell.execute_reply": "2022-03-25T03:46:34.409442Z",
          "shell.execute_reply.started": "2022-03-25T03:46:33.604384Z"
        },
        "id": "iOpq7qzNgPAc",
        "outputId": "8a6de1df-99bd-4fd2-e530-5caacf74e276"
      },
      "outputs": [
        {
          "name": "stdout",
          "output_type": "stream",
          "text": [
            "acc_val_data = 0.9438244104385376\n"
          ]
        }
      ],
      "source": [
        "loss_val_data, acc_val_data = model1.evaluate(X_valid, y_valid, verbose=0)\n",
        "print(f\"acc_val_data = {acc_val_data}\")\n"
      ]
    },
    {
      "cell_type": "markdown",
      "metadata": {
        "id": "YkENJQ0egPAd"
      },
      "source": [
        "**2- CNN + Data Augmentation**"
      ]
    },
    {
      "cell_type": "code",
      "execution_count": null,
      "metadata": {
        "colab": {
          "base_uri": "https://localhost:8080/"
        },
        "execution": {
          "iopub.execute_input": "2022-03-25T03:46:34.412592Z",
          "iopub.status.busy": "2022-03-25T03:46:34.412344Z",
          "iopub.status.idle": "2022-03-25T03:46:34.871820Z",
          "shell.execute_reply": "2022-03-25T03:46:34.871125Z",
          "shell.execute_reply.started": "2022-03-25T03:46:34.412556Z"
        },
        "id": "TRoinoSagPAe",
        "outputId": "aef66e7b-60da-4fcf-e7bd-7a3beb3ca68f"
      },
      "outputs": [
        {
          "name": "stdout",
          "output_type": "stream",
          "text": [
            "WARNING:tensorflow:No training configuration found in save file, so the model was *not* compiled. Compile it manually.\n"
          ]
        }
      ],
      "source": [
        "model2 = tf.keras.models.load_model('../Model')\n",
        "model2.compile(loss='sparse_categorical_crossentropy', optimizer='adam', metrics=['accuracy'])"
      ]
    },
    {
      "cell_type": "code",
      "execution_count": null,
      "metadata": {
        "execution": {
          "iopub.execute_input": "2022-03-25T03:46:34.873417Z",
          "iopub.status.busy": "2022-03-25T03:46:34.873185Z",
          "iopub.status.idle": "2022-03-25T03:46:34.879015Z",
          "shell.execute_reply": "2022-03-25T03:46:34.877464Z",
          "shell.execute_reply.started": "2022-03-25T03:46:34.873385Z"
        },
        "id": "w3Jj7VYjgPAe"
      },
      "outputs": [],
      "source": [
        "datagen = ImageDataGenerator(rotation_range=10,     # randomly rotate images in the range (degrees, 0 to 10)\n",
        "                            zoom_range = 0.1,       # Randomly zoom image \n",
        "                            width_shift_range=0.1,  # randomly shift images horizontally (fraction of total width)\n",
        "                            height_shift_range=0.1, # randomly shift images vertically (fraction of total height)\n",
        "                            validation_split = 0.1) # randomly flip images"
      ]
    },
    {
      "cell_type": "markdown",
      "metadata": {
        "id": "dhz_8ixIgPAf"
      },
      "source": [
        "**Here, traditional transformations are used that consist of using a combination of affine transformations to manipulate the training data. For each input image, we generate a ”duplicate” image that is rotated, zoomed in/out, shifted, and flipped. Both image and duplicate are fed into the predefined model**"
      ]
    },
    {
      "cell_type": "code",
      "execution_count": null,
      "metadata": {
        "colab": {
          "base_uri": "https://localhost:8080/"
        },
        "id": "ZS05Yt0JgPAf",
        "outputId": "8ee430d8-fe8c-497e-af41-049727bf81ac"
      },
      "outputs": [
        {
          "name": "stdout",
          "output_type": "stream",
          "text": [
            "Epoch 1/100\n",
            "84/84 [==============================] - 21s 243ms/step - loss: 2.7746 - accuracy: 0.1892 - val_loss: 1.9350 - val_accuracy: 0.3854\n",
            "Epoch 2/100\n",
            "84/84 [==============================] - 20s 240ms/step - loss: 1.7837 - accuracy: 0.4471 - val_loss: 0.8060 - val_accuracy: 0.7325\n",
            "Epoch 3/100\n",
            "84/84 [==============================] - 19s 230ms/step - loss: 0.9268 - accuracy: 0.7012 - val_loss: 0.5196 - val_accuracy: 0.8240\n",
            "Epoch 4/100\n",
            "84/84 [==============================] - 19s 229ms/step - loss: 0.6183 - accuracy: 0.8046 - val_loss: 0.3044 - val_accuracy: 0.9111\n",
            "Epoch 5/100\n",
            "84/84 [==============================] - 19s 230ms/step - loss: 0.4333 - accuracy: 0.8643 - val_loss: 0.2340 - val_accuracy: 0.9260\n",
            "Epoch 6/100\n",
            "84/84 [==============================] - 20s 239ms/step - loss: 0.3483 - accuracy: 0.8924 - val_loss: 0.1603 - val_accuracy: 0.9539\n",
            "Epoch 7/100\n",
            "84/84 [==============================] - 19s 230ms/step - loss: 0.2679 - accuracy: 0.9201 - val_loss: 0.1496 - val_accuracy: 0.9576\n",
            "Epoch 8/100\n",
            "84/84 [==============================] - 19s 229ms/step - loss: 0.2468 - accuracy: 0.9241 - val_loss: 0.1619 - val_accuracy: 0.9542\n",
            "Epoch 9/100\n",
            "84/84 [==============================] - 20s 239ms/step - loss: 0.2275 - accuracy: 0.9278 - val_loss: 0.1439 - val_accuracy: 0.9580\n",
            "Epoch 10/100\n",
            "84/84 [==============================] - 20s 239ms/step - loss: 0.1996 - accuracy: 0.9410 - val_loss: 0.1199 - val_accuracy: 0.9639\n",
            "Epoch 11/100\n",
            "84/84 [==============================] - 20s 239ms/step - loss: 0.1875 - accuracy: 0.9436 - val_loss: 0.1233 - val_accuracy: 0.9669\n",
            "Epoch 12/100\n",
            "84/84 [==============================] - 20s 239ms/step - loss: 0.1811 - accuracy: 0.9429 - val_loss: 0.1365 - val_accuracy: 0.9632\n",
            "Epoch 13/100\n",
            "84/84 [==============================] - 20s 239ms/step - loss: 0.1577 - accuracy: 0.9506 - val_loss: 0.1184 - val_accuracy: 0.9699\n",
            "Epoch 14/100\n",
            "84/84 [==============================] - 20s 239ms/step - loss: 0.1467 - accuracy: 0.9570 - val_loss: 0.1190 - val_accuracy: 0.9635\n",
            "Epoch 15/100\n",
            "84/84 [==============================] - 19s 229ms/step - loss: 0.1482 - accuracy: 0.9535 - val_loss: 0.1697 - val_accuracy: 0.9561\n",
            "Epoch 16/100\n",
            "84/84 [==============================] - 20s 239ms/step - loss: 0.1270 - accuracy: 0.9631 - val_loss: 0.1079 - val_accuracy: 0.9736\n",
            "Epoch 17/100\n",
            "84/84 [==============================] - 20s 239ms/step - loss: 0.1168 - accuracy: 0.9634 - val_loss: 0.1642 - val_accuracy: 0.9557\n",
            "Epoch 18/100\n",
            "84/84 [==============================] - 20s 239ms/step - loss: 0.1283 - accuracy: 0.9613 - val_loss: 0.1098 - val_accuracy: 0.9725\n",
            "Epoch 19/100\n",
            "84/84 [==============================] - 20s 239ms/step - loss: 0.1138 - accuracy: 0.9658 - val_loss: 0.0996 - val_accuracy: 0.9736\n",
            "Epoch 20/100\n",
            "84/84 [==============================] - 20s 239ms/step - loss: 0.1102 - accuracy: 0.9648 - val_loss: 0.1186 - val_accuracy: 0.9710\n",
            "Epoch 21/100\n",
            "84/84 [==============================] - 19s 229ms/step - loss: 0.1081 - accuracy: 0.9688 - val_loss: 0.0864 - val_accuracy: 0.9758\n",
            "Epoch 22/100\n",
            "84/84 [==============================] - 20s 240ms/step - loss: 0.0981 - accuracy: 0.9689 - val_loss: 0.1322 - val_accuracy: 0.9695\n",
            "Epoch 23/100\n",
            "84/84 [==============================] - 20s 239ms/step - loss: 0.0923 - accuracy: 0.9723 - val_loss: 0.1235 - val_accuracy: 0.9721\n",
            "Epoch 24/100\n",
            "84/84 [==============================] - 20s 239ms/step - loss: 0.0916 - accuracy: 0.9707 - val_loss: 0.1257 - val_accuracy: 0.9721\n",
            "Epoch 25/100\n",
            "84/84 [==============================] - 20s 240ms/step - loss: 0.0944 - accuracy: 0.9721 - val_loss: 0.1118 - val_accuracy: 0.9740\n",
            "Epoch 26/100\n",
            "84/84 [==============================] - 20s 239ms/step - loss: 0.0903 - accuracy: 0.9741 - val_loss: 0.1313 - val_accuracy: 0.9676\n",
            "Epoch 27/100\n",
            "84/84 [==============================] - 20s 239ms/step - loss: 0.0871 - accuracy: 0.9718 - val_loss: 0.1329 - val_accuracy: 0.9654\n",
            "Epoch 28/100\n",
            "84/84 [==============================] - 19s 229ms/step - loss: 0.0844 - accuracy: 0.9743 - val_loss: 0.0973 - val_accuracy: 0.9754\n",
            "Epoch 29/100\n",
            "84/84 [==============================] - 19s 229ms/step - loss: 0.0760 - accuracy: 0.9765 - val_loss: 0.0965 - val_accuracy: 0.9751\n",
            "Epoch 30/100\n",
            "84/84 [==============================] - 20s 239ms/step - loss: 0.0786 - accuracy: 0.9745 - val_loss: 0.1015 - val_accuracy: 0.9762\n",
            "Epoch 31/100\n",
            "84/84 [==============================] - 20s 239ms/step - loss: 0.0894 - accuracy: 0.9738 - val_loss: 0.1212 - val_accuracy: 0.9647\n",
            "Epoch 32/100\n",
            "84/84 [==============================] - 20s 239ms/step - loss: 0.1003 - accuracy: 0.9682 - val_loss: 0.1138 - val_accuracy: 0.9725\n",
            "Epoch 33/100\n",
            "84/84 [==============================] - 19s 229ms/step - loss: 0.0839 - accuracy: 0.9751 - val_loss: 0.0995 - val_accuracy: 0.9762\n",
            "Epoch 34/100\n",
            "84/84 [==============================] - 20s 239ms/step - loss: 0.0759 - accuracy: 0.9763 - val_loss: 0.1111 - val_accuracy: 0.9736\n",
            "Epoch 35/100\n",
            "84/84 [==============================] - 19s 229ms/step - loss: 0.0850 - accuracy: 0.9741 - val_loss: 0.1022 - val_accuracy: 0.9769\n",
            "Epoch 36/100\n",
            "84/84 [==============================] - 20s 239ms/step - loss: 0.0852 - accuracy: 0.9741 - val_loss: 0.1076 - val_accuracy: 0.9792\n",
            "Epoch 37/100\n",
            "84/84 [==============================] - 20s 239ms/step - loss: 0.0681 - accuracy: 0.9783 - val_loss: 0.1033 - val_accuracy: 0.9773\n",
            "Epoch 38/100\n",
            "84/84 [==============================] - 19s 229ms/step - loss: 0.0576 - accuracy: 0.9815 - val_loss: 0.0954 - val_accuracy: 0.9799\n",
            "Epoch 39/100\n",
            "84/84 [==============================] - 19s 229ms/step - loss: 0.0592 - accuracy: 0.9829 - val_loss: 0.1012 - val_accuracy: 0.9781\n",
            "Epoch 40/100\n",
            "84/84 [==============================] - 19s 229ms/step - loss: 0.0628 - accuracy: 0.9823 - val_loss: 0.0999 - val_accuracy: 0.9751\n",
            "Epoch 41/100\n",
            "84/84 [==============================] - 20s 239ms/step - loss: 0.0566 - accuracy: 0.9828 - val_loss: 0.1035 - val_accuracy: 0.9788\n",
            "Epoch 42/100\n",
            "84/84 [==============================] - 19s 229ms/step - loss: 0.0533 - accuracy: 0.9849 - val_loss: 0.1046 - val_accuracy: 0.9788\n",
            "Epoch 43/100\n",
            "84/84 [==============================] - 19s 229ms/step - loss: 0.0533 - accuracy: 0.9824 - val_loss: 0.1096 - val_accuracy: 0.9795\n",
            "Epoch 44/100\n",
            "84/84 [==============================] - 20s 239ms/step - loss: 0.0612 - accuracy: 0.9809 - val_loss: 0.1143 - val_accuracy: 0.9740\n",
            "Epoch 45/100\n",
            "84/84 [==============================] - 19s 229ms/step - loss: 0.0558 - accuracy: 0.9825 - val_loss: 0.1269 - val_accuracy: 0.9747\n",
            "Epoch 46/100\n",
            "84/84 [==============================] - 19s 228ms/step - loss: 0.0581 - accuracy: 0.9825 - val_loss: 0.0983 - val_accuracy: 0.9799\n",
            "Epoch 47/100\n",
            "84/84 [==============================] - 20s 239ms/step - loss: 0.0540 - accuracy: 0.9833 - val_loss: 0.1047 - val_accuracy: 0.9807\n",
            "Epoch 48/100\n",
            "84/84 [==============================] - 20s 239ms/step - loss: 0.0594 - accuracy: 0.9824 - val_loss: 0.1134 - val_accuracy: 0.9781\n",
            "Epoch 49/100\n",
            "84/84 [==============================] - 20s 239ms/step - loss: 0.0529 - accuracy: 0.9838 - val_loss: 0.1052 - val_accuracy: 0.9777\n",
            "Epoch 50/100\n",
            "84/84 [==============================] - 20s 239ms/step - loss: 0.0603 - accuracy: 0.9813 - val_loss: 0.0987 - val_accuracy: 0.9818\n",
            "Epoch 51/100\n",
            "84/84 [==============================] - 20s 239ms/step - loss: 0.0504 - accuracy: 0.9850 - val_loss: 0.1167 - val_accuracy: 0.9788\n",
            "Epoch 52/100\n",
            "84/84 [==============================] - 19s 229ms/step - loss: 0.0527 - accuracy: 0.9842 - val_loss: 0.1054 - val_accuracy: 0.9803\n",
            "Epoch 53/100\n",
            "84/84 [==============================] - 20s 239ms/step - loss: 0.0540 - accuracy: 0.9829 - val_loss: 0.1037 - val_accuracy: 0.9795\n",
            "Epoch 54/100\n",
            "84/84 [==============================] - 19s 229ms/step - loss: 0.0514 - accuracy: 0.9844 - val_loss: 0.1097 - val_accuracy: 0.9740\n",
            "Epoch 55/100\n",
            "84/84 [==============================] - 20s 239ms/step - loss: 0.0537 - accuracy: 0.9850 - val_loss: 0.1019 - val_accuracy: 0.9784\n",
            "Epoch 56/100\n",
            "84/84 [==============================] - 20s 239ms/step - loss: 0.0500 - accuracy: 0.9849 - val_loss: 0.0996 - val_accuracy: 0.9788\n",
            "Epoch 57/100\n",
            "84/84 [==============================] - 20s 239ms/step - loss: 0.0502 - accuracy: 0.9836 - val_loss: 0.1045 - val_accuracy: 0.9781\n",
            "Epoch 58/100\n",
            "84/84 [==============================] - 19s 229ms/step - loss: 0.0487 - accuracy: 0.9842 - val_loss: 0.1033 - val_accuracy: 0.9773\n",
            "Epoch 59/100\n",
            "84/84 [==============================] - 19s 229ms/step - loss: 0.0555 - accuracy: 0.9832 - val_loss: 0.0945 - val_accuracy: 0.9821\n",
            "Epoch 60/100\n",
            "84/84 [==============================] - 19s 228ms/step - loss: 0.0468 - accuracy: 0.9849 - val_loss: 0.1054 - val_accuracy: 0.9777\n",
            "Epoch 61/100\n",
            "84/84 [==============================] - 19s 229ms/step - loss: 0.0409 - accuracy: 0.9882 - val_loss: 0.1077 - val_accuracy: 0.9803\n",
            "Epoch 62/100\n",
            "84/84 [==============================] - 19s 229ms/step - loss: 0.0434 - accuracy: 0.9864 - val_loss: 0.1203 - val_accuracy: 0.9788\n",
            "Epoch 63/100\n",
            "84/84 [==============================] - 19s 229ms/step - loss: 0.0436 - accuracy: 0.9869 - val_loss: 0.1120 - val_accuracy: 0.9773\n",
            "Epoch 64/100\n",
            "84/84 [==============================] - 20s 239ms/step - loss: 0.0495 - accuracy: 0.9846 - val_loss: 0.0913 - val_accuracy: 0.9829\n",
            "Epoch 65/100\n",
            "84/84 [==============================] - 20s 239ms/step - loss: 0.0423 - accuracy: 0.9873 - val_loss: 0.1006 - val_accuracy: 0.9810\n",
            "Epoch 66/100\n",
            "84/84 [==============================] - 19s 228ms/step - loss: 0.0420 - accuracy: 0.9866 - val_loss: 0.0951 - val_accuracy: 0.9807\n",
            "Epoch 67/100\n",
            "84/84 [==============================] - 20s 239ms/step - loss: 0.0514 - accuracy: 0.9834 - val_loss: 0.1041 - val_accuracy: 0.9799\n",
            "Epoch 68/100\n",
            "84/84 [==============================] - 19s 229ms/step - loss: 0.0565 - accuracy: 0.9829 - val_loss: 0.1057 - val_accuracy: 0.9788\n",
            "Epoch 69/100\n",
            "84/84 [==============================] - 19s 229ms/step - loss: 0.0382 - accuracy: 0.9887 - val_loss: 0.0960 - val_accuracy: 0.9825\n",
            "Epoch 70/100\n",
            "84/84 [==============================] - 19s 229ms/step - loss: 0.0443 - accuracy: 0.9858 - val_loss: 0.0949 - val_accuracy: 0.9773\n",
            "Epoch 71/100\n",
            "84/84 [==============================] - 20s 239ms/step - loss: 0.0459 - accuracy: 0.9858 - val_loss: 0.0931 - val_accuracy: 0.9821\n",
            "Epoch 72/100\n",
            "84/84 [==============================] - 20s 239ms/step - loss: 0.0388 - accuracy: 0.9878 - val_loss: 0.1041 - val_accuracy: 0.9788\n",
            "Epoch 73/100\n",
            "84/84 [==============================] - 19s 229ms/step - loss: 0.0544 - accuracy: 0.9833 - val_loss: 0.2085 - val_accuracy: 0.9580\n",
            "Epoch 74/100\n",
            "84/84 [==============================] - 20s 239ms/step - loss: 0.2110 - accuracy: 0.9429 - val_loss: 0.1787 - val_accuracy: 0.9580\n",
            "Epoch 75/100\n",
            "84/84 [==============================] - 20s 239ms/step - loss: 0.0903 - accuracy: 0.9723 - val_loss: 0.1054 - val_accuracy: 0.9803\n",
            "Epoch 76/100\n",
            "84/84 [==============================] - 19s 229ms/step - loss: 0.0970 - accuracy: 0.9694 - val_loss: 0.1152 - val_accuracy: 0.9732\n",
            "Epoch 77/100\n",
            "84/84 [==============================] - 19s 229ms/step - loss: 0.0565 - accuracy: 0.9834 - val_loss: 0.1287 - val_accuracy: 0.9695\n",
            "Epoch 78/100\n",
            "84/84 [==============================] - 19s 229ms/step - loss: 0.0495 - accuracy: 0.9852 - val_loss: 0.1028 - val_accuracy: 0.9784\n",
            "Epoch 79/100\n",
            "84/84 [==============================] - 19s 229ms/step - loss: 0.0473 - accuracy: 0.9855 - val_loss: 0.0881 - val_accuracy: 0.9829\n",
            "Epoch 80/100\n",
            "84/84 [==============================] - 20s 239ms/step - loss: 0.0404 - accuracy: 0.9884 - val_loss: 0.1098 - val_accuracy: 0.9795\n",
            "Epoch 81/100\n",
            "84/84 [==============================] - 19s 228ms/step - loss: 0.0390 - accuracy: 0.9877 - val_loss: 0.0956 - val_accuracy: 0.9829\n",
            "Epoch 82/100\n",
            "84/84 [==============================] - 20s 239ms/step - loss: 0.0382 - accuracy: 0.9880 - val_loss: 0.0943 - val_accuracy: 0.9833\n",
            "Epoch 83/100\n",
            "84/84 [==============================] - 20s 239ms/step - loss: 0.0411 - accuracy: 0.9860 - val_loss: 0.1292 - val_accuracy: 0.9769\n",
            "Epoch 84/100\n",
            "84/84 [==============================] - 19s 229ms/step - loss: 0.0309 - accuracy: 0.9912 - val_loss: 0.1063 - val_accuracy: 0.9836\n",
            "Epoch 85/100\n",
            "84/84 [==============================] - 20s 239ms/step - loss: 0.0386 - accuracy: 0.9875 - val_loss: 0.0989 - val_accuracy: 0.9814\n",
            "Epoch 86/100\n",
            "84/84 [==============================] - 20s 239ms/step - loss: 0.0366 - accuracy: 0.9882 - val_loss: 0.1147 - val_accuracy: 0.9810\n",
            "Epoch 87/100\n",
            "84/84 [==============================] - 20s 239ms/step - loss: 0.0372 - accuracy: 0.9890 - val_loss: 0.1205 - val_accuracy: 0.9795\n",
            "Epoch 88/100\n",
            "84/84 [==============================] - 19s 229ms/step - loss: 0.0410 - accuracy: 0.9866 - val_loss: 0.1206 - val_accuracy: 0.9751\n",
            "Epoch 89/100\n",
            "84/84 [==============================] - 19s 229ms/step - loss: 0.0291 - accuracy: 0.9904 - val_loss: 0.1228 - val_accuracy: 0.9810\n",
            "Epoch 90/100\n",
            "84/84 [==============================] - 20s 239ms/step - loss: 0.0293 - accuracy: 0.9909 - val_loss: 0.1073 - val_accuracy: 0.9829\n",
            "Epoch 91/100\n",
            "84/84 [==============================] - 20s 239ms/step - loss: 0.0396 - accuracy: 0.9877 - val_loss: 0.1281 - val_accuracy: 0.9792\n",
            "Epoch 92/100\n",
            "84/84 [==============================] - 19s 229ms/step - loss: 0.0350 - accuracy: 0.9875 - val_loss: 0.1361 - val_accuracy: 0.9751\n",
            "Epoch 93/100\n",
            "84/84 [==============================] - 19s 229ms/step - loss: 0.0363 - accuracy: 0.9890 - val_loss: 0.1020 - val_accuracy: 0.9803\n",
            "Epoch 94/100\n",
            "84/84 [==============================] - 19s 229ms/step - loss: 0.0378 - accuracy: 0.9872 - val_loss: 0.0960 - val_accuracy: 0.9807\n",
            "Epoch 95/100\n",
            "84/84 [==============================] - 20s 239ms/step - loss: 0.0327 - accuracy: 0.9905 - val_loss: 0.1186 - val_accuracy: 0.9799\n",
            "Epoch 96/100\n",
            "84/84 [==============================] - 20s 239ms/step - loss: 0.0302 - accuracy: 0.9905 - val_loss: 0.1126 - val_accuracy: 0.9788\n",
            "Epoch 97/100\n",
            "84/84 [==============================] - 20s 239ms/step - loss: 0.0331 - accuracy: 0.9899 - val_loss: 0.1114 - val_accuracy: 0.9781\n",
            "Epoch 98/100\n",
            "84/84 [==============================] - 20s 239ms/step - loss: 0.0375 - accuracy: 0.9879 - val_loss: 0.1243 - val_accuracy: 0.9784\n",
            "Epoch 99/100\n",
            "84/84 [==============================] - 20s 239ms/step - loss: 0.0305 - accuracy: 0.9900 - val_loss: 0.1363 - val_accuracy: 0.9795\n",
            "Epoch 100/100\n",
            "84/84 [==============================] - 19s 229ms/step - loss: 0.0369 - accuracy: 0.9880 - val_loss: 0.1292 - val_accuracy: 0.9795\n"
          ]
        }
      ],
      "source": [
        "history2 = model2.fit(datagen.flow(X_train, y_train, batch_size=128), validation_data=(X_valid, y_valid), epochs=100)"
      ]
    },
    {
      "cell_type": "code",
      "execution_count": null,
      "metadata": {
        "colab": {
          "base_uri": "https://localhost:8080/",
          "height": 395
        },
        "id": "qMGXhk3AgPAg",
        "outputId": "5af59e60-1917-4a06-a93d-24009e69f55e"
      },
      "outputs": [
        {
          "data": {
            "text/plain": [
              "(0.0, 1.0)"
            ]
          },
          "execution_count": 23,
          "metadata": {},
          "output_type": "execute_result"
        },
        {
          "data": {
            "image/png": "[encoded data removed]",
            "text/plain": [
              "<Figure size 720x432 with 1 Axes>"
            ]
          },
          "metadata": {
            "needs_background": "light"
          },
          "output_type": "display_data"
        }
      ],
      "source": [
        "subset2 = {key: history2.history[key] for key in ['loss','val_loss']}\n",
        "ax = pd.DataFrame(subset2).plot(figsize=(10, 6));\n",
        "ax.set_ylim(0,1)"
      ]
    },
    {
      "cell_type": "code",
      "execution_count": null,
      "metadata": {
        "colab": {
          "base_uri": "https://localhost:8080/"
        },
        "id": "Q1y7Ka1CgPAg",
        "outputId": "af98b34c-a675-4826-8102-23e021262837"
      },
      "outputs": [
        {
          "name": "stdout",
          "output_type": "stream",
          "text": [
            "acc_val_data = 0.9795386791229248\n"
          ]
        }
      ],
      "source": [
        "loss_val_data, acc_val_data = model2.evaluate(X_valid, y_valid, verbose=0)\n",
        "print(f\"acc_val_data = {acc_val_data}\")"
      ]
    },
    {
      "cell_type": "markdown",
      "metadata": {
        "id": "HTOem0291-DB"
      },
      "source": [
        "#**Test Dataset**"
      ]
    },
    {
      "cell_type": "code",
      "execution_count": 118,
      "metadata": {
        "id": "E85Hmu0LHa0M"
      },
      "outputs": [],
      "source": [
        "test_df = pd.read_csv('/dataset/test.csv')\n"
      ]
    },
    {
      "cell_type": "code",
      "execution_count": 114,
      "metadata": {
        "colab": {
          "base_uri": "https://localhost:8080/"
        },
        "id": "jX42fjW7GnIA",
        "outputId": "1de6e961-b4e6-465b-cf12-7d7367b05f0d"
      },
      "outputs": [
        {
          "name": "stdout",
          "output_type": "stream",
          "text": [
            "train_full_set.shape => (3360, 32, 32, 3)\n"
          ]
        }
      ],
      "source": [
        "## read these all training images paths as Series\n",
        "test_imagas_path = Path(r'/dataset/test')\n",
        "\n",
        "\n",
        "test_images_paths = pd.Series(sorted(list(test_imagas_path.glob(r'*.png'))), name='Filepath').astype(str)\n",
        "test_full_set = np.empty((3360, 32, 32, 3), dtype=np.float32)  #take only the first 3 channels\n",
        "\n",
        "for idx, path in enumerate(test_images_paths):\n",
        "    img = plt.imread(path)\n",
        "    img = img[:,:,:3]\n",
        "    test_full_set[idx] = img\n",
        "\n",
        "print('train_full_set.shape =>', test_full_set.shape)\n"
      ]
    },
    {
      "cell_type": "code",
      "execution_count": 119,
      "metadata": {
        "id": "cmr3xUdRFhlX"
      },
      "outputs": [],
      "source": [
        "lebel_predict = model2.predict(test_full_set)\n",
        "testPredections = np.argmax(lebel_predict,axis=1)\n",
        "test_df['label']=testPredections\n",
        "test_df['alpha'] = test_df.label.map(m)"
      ]
    },
    {
      "cell_type": "code",
      "execution_count": 120,
      "metadata": {
        "colab": {
          "base_uri": "https://localhost:8080/",
          "height": 283
        },
        "id": "q1k5nFZ6gPAh",
        "outputId": "ad4ae114-4744-4863-e1d1-028371adb315"
      },
      "outputs": [
        {
          "name": "stdout",
          "output_type": "stream",
          "text": [
            "Prediction:  أ th letter\n"
          ]
        },
        {
          "data": {
            "image/png": "[encoded data removed]",
            "text/plain": [
              "<Figure size 432x288 with 1 Axes>"
            ]
          },
          "metadata": {
            "needs_background": "light"
          },
          "output_type": "display_data"
        }
      ],
      "source": [
        "img = load_img('test/00002.png',color_mode='grayscale')\n",
        "plt.imshow(img)\n",
        "\n",
        "p = test_df['alpha'][2]\n",
        "print('Prediction: ',p,'th letter') \n"
      ]
    },
    {
      "cell_type": "code",
      "execution_count": 121,
      "metadata": {
        "colab": {
          "base_uri": "https://localhost:8080/",
          "height": 283
        },
        "id": "iBnWrnXbHzzz",
        "outputId": "3084d277-1230-476f-8bd6-b1a413d07bde"
      },
      "outputs": [
        {
          "name": "stdout",
          "output_type": "stream",
          "text": [
            "Prediction:  ر th letter\n"
          ]
        },
        {
          "data": {
            "image/png": "[encoded data removed]",
            "text/plain": [
              "<Figure size 432x288 with 1 Axes>"
            ]
          },
          "metadata": {
            "needs_background": "light"
          },
          "output_type": "display_data"
        }
      ],
      "source": [
        "img = load_img('test/00003.png',color_mode='grayscale')\n",
        "plt.imshow(img)\n",
        "\n",
        "p = test_df['alpha'][3]\n",
        "print('Prediction: ',p,'th letter') "
      ]
    },
    {
      "cell_type": "code",
      "execution_count": null,
      "metadata": {
        "id": "ufIpp_fyCAVn"
      },
      "outputs": [],
      "source": []
    }
  ],
  "metadata": {
    "accelerator": "GPU",
    "colab": {
      "name": "arabic-handwritten-characters-recognition.ipynb",
      "provenance": []
    },
    "kernelspec": {
      "display_name": "Python 3",
      "language": "python",
      "name": "python3"
    },
    "language_info": {
      "codemirror_mode": {
        "name": "ipython",
        "version": 3
      },
      "file_extension": ".py",
      "mimetype": "text/x-python",
      "name": "python",
      "nbconvert_exporter": "python",
      "pygments_lexer": "ipython3",
      "version": "3.8.8"
    }
  },
  "nbformat": 4,
  "nbformat_minor": 0
}
