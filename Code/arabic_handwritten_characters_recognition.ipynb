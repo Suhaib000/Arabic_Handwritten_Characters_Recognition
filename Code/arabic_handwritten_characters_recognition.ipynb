{
  "cells": [
    {
      "cell_type": "code",
      "execution_count": 122,
      "metadata": {
        "execution": {
          "iopub.execute_input": "2022-03-25T03:36:15.780974Z",
          "iopub.status.busy": "2022-03-25T03:36:15.780570Z",
          "iopub.status.idle": "2022-03-25T03:36:21.459567Z",
          "shell.execute_reply": "2022-03-25T03:36:21.458595Z",
          "shell.execute_reply.started": "2022-03-25T03:36:15.780857Z"
        },
        "id": "9IfLA-y2gO_9"
      },
      "outputs": [],
      "source": [
        "# Imports\n",
        "import numpy as np\n",
        "import pandas as pd\n",
        "import matplotlib.pyplot as plt\n",
        "%matplotlib inline\n",
        "import seaborn as sns\n",
        "from pathlib import Path\n",
        "from PIL import Image\n",
        "import os\n",
        "\n",
        "## Preprocessing\n",
        "from sklearn.preprocessing import StandardScaler\n",
        "from sklearn.model_selection import train_test_split\n",
        "\n",
        "## tensorflow & Keras\n",
        "import tensorflow as tf\n",
        "from keras.preprocessing.image import ImageDataGenerator\n",
        "from keras.models import Model\n",
        "\n",
        "from tensorflow.keras.preprocessing.image import ImageDataGenerator,load_img,img_to_array"
      ]
    },
    {
      "cell_type": "code",
      "execution_count": 123,
      "metadata": {
        "id": "PvCg5X_9hQ-g"
      },
      "outputs": [],
      "source": [
        "from zipfile import ZipFile\n",
        "with ZipFile('/dataset/train.zip', 'r') as zip:\n",
        "    # printing all the contents of the zip file\n",
        "    zip.printdir()\n",
        "  \n",
        "    # extracting all the files\n",
        "    print('Extracting all the files now...')\n",
        "    zip.extractall()\n",
        "    print('Done!')"
      ]
    },
    {
      "cell_type": "code",
      "execution_count": null,
      "metadata": {},
      "outputs": [],
      "source": [
        "from zipfile import ZipFile\n",
        "with ZipFile('/dataset/test.zip', 'r') as zip:\n",
        "    # printing all the contents of the zip file\n",
        "    zip.printdir()\n",
        "  \n",
        "    # extracting all the files\n",
        "    print('Extracting all the files now...')\n",
        "    zip.extractall()\n",
        "    print('Done!')"
      ]
    },
    {
      "cell_type": "code",
      "execution_count": 124,
      "metadata": {
        "colab": {
          "base_uri": "https://localhost:8080/",
          "height": 206
        },
        "execution": {
          "iopub.execute_input": "2022-03-25T03:36:21.464434Z",
          "iopub.status.busy": "2022-03-25T03:36:21.464112Z",
          "iopub.status.idle": "2022-03-25T03:36:21.521720Z",
          "shell.execute_reply": "2022-03-25T03:36:21.520474Z",
          "shell.execute_reply.started": "2022-03-25T03:36:21.464391Z"
        },
        "id": "LYMJB3SugPAG",
        "outputId": "53abc0b0-aab4-48bb-a366-c750a145c6fe"
      },
      "outputs": [
        {
          "data": {
            "text/html": [
              "\n",
              "  <div id=\"df-29f3d024-d450-47ee-9f36-f7dd6a78d0e8\">\n",
              "    <div class=\"colab-df-container\">\n",
              "      <div>\n",
              "<style scoped>\n",
              "    .dataframe tbody tr th:only-of-type {\n",
              "        vertical-align: middle;\n",
              "    }\n",
              "\n",
              "    .dataframe tbody tr th {\n",
              "        vertical-align: top;\n",
              "    }\n",
              "\n",
              "    .dataframe thead th {\n",
              "        text-align: right;\n",
              "    }\n",
              "</style>\n",
              "<table border=\"1\" class=\"dataframe\">\n",
              "  <thead>\n",
              "    <tr style=\"text-align: right;\">\n",
              "      <th></th>\n",
              "      <th>id</th>\n",
              "      <th>label</th>\n",
              "    </tr>\n",
              "  </thead>\n",
              "  <tbody>\n",
              "    <tr>\n",
              "      <th>0</th>\n",
              "      <td>0</td>\n",
              "      <td>24</td>\n",
              "    </tr>\n",
              "    <tr>\n",
              "      <th>1</th>\n",
              "      <td>1</td>\n",
              "      <td>2</td>\n",
              "    </tr>\n",
              "    <tr>\n",
              "      <th>2</th>\n",
              "      <td>2</td>\n",
              "      <td>17</td>\n",
              "    </tr>\n",
              "    <tr>\n",
              "      <th>3</th>\n",
              "      <td>3</td>\n",
              "      <td>14</td>\n",
              "    </tr>\n",
              "    <tr>\n",
              "      <th>4</th>\n",
              "      <td>4</td>\n",
              "      <td>19</td>\n",
              "    </tr>\n",
              "  </tbody>\n",
              "</table>\n",
              "</div>\n",
              "      <button class=\"colab-df-convert\" onclick=\"convertToInteractive('df-29f3d024-d450-47ee-9f36-f7dd6a78d0e8')\"\n",
              "              title=\"Convert this dataframe to an interactive table.\"\n",
              "              style=\"display:none;\">\n",
              "        \n",
              "  <svg xmlns=\"http://www.w3.org/2000/svg\" height=\"24px\"viewBox=\"0 0 24 24\"\n",
              "       width=\"24px\">\n",
              "    <path d=\"M0 0h24v24H0V0z\" fill=\"none\"/>\n",
              "    <path d=\"M18.56 5.44l.94 2.06.94-2.06 2.06-.94-2.06-.94-.94-2.06-.94 2.06-2.06.94zm-11 1L8.5 8.5l.94-2.06 2.06-.94-2.06-.94L8.5 2.5l-.94 2.06-2.06.94zm10 10l.94 2.06.94-2.06 2.06-.94-2.06-.94-.94-2.06-.94 2.06-2.06.94z\"/><path d=\"M17.41 7.96l-1.37-1.37c-.4-.4-.92-.59-1.43-.59-.52 0-1.04.2-1.43.59L10.3 9.45l-7.72 7.72c-.78.78-.78 2.05 0 2.83L4 21.41c.39.39.9.59 1.41.59.51 0 1.02-.2 1.41-.59l7.78-7.78 2.81-2.81c.8-.78.8-2.07 0-2.86zM5.41 20L4 18.59l7.72-7.72 1.47 1.35L5.41 20z\"/>\n",
              "  </svg>\n",
              "      </button>\n",
              "      \n",
              "  <style>\n",
              "    .colab-df-container {\n",
              "      display:flex;\n",
              "      flex-wrap:wrap;\n",
              "      gap: 12px;\n",
              "    }\n",
              "\n",
              "    .colab-df-convert {\n",
              "      background-color: #E8F0FE;\n",
              "      border: none;\n",
              "      border-radius: 50%;\n",
              "      cursor: pointer;\n",
              "      display: none;\n",
              "      fill: #1967D2;\n",
              "      height: 32px;\n",
              "      padding: 0 0 0 0;\n",
              "      width: 32px;\n",
              "    }\n",
              "\n",
              "    .colab-df-convert:hover {\n",
              "      background-color: #E2EBFA;\n",
              "      box-shadow: 0px 1px 2px rgba(60, 64, 67, 0.3), 0px 1px 3px 1px rgba(60, 64, 67, 0.15);\n",
              "      fill: #174EA6;\n",
              "    }\n",
              "\n",
              "    [theme=dark] .colab-df-convert {\n",
              "      background-color: #3B4455;\n",
              "      fill: #D2E3FC;\n",
              "    }\n",
              "\n",
              "    [theme=dark] .colab-df-convert:hover {\n",
              "      background-color: #434B5C;\n",
              "      box-shadow: 0px 1px 3px 1px rgba(0, 0, 0, 0.15);\n",
              "      filter: drop-shadow(0px 1px 2px rgba(0, 0, 0, 0.3));\n",
              "      fill: #FFFFFF;\n",
              "    }\n",
              "  </style>\n",
              "\n",
              "      <script>\n",
              "        const buttonEl =\n",
              "          document.querySelector('#df-29f3d024-d450-47ee-9f36-f7dd6a78d0e8 button.colab-df-convert');\n",
              "        buttonEl.style.display =\n",
              "          google.colab.kernel.accessAllowed ? 'block' : 'none';\n",
              "\n",
              "        async function convertToInteractive(key) {\n",
              "          const element = document.querySelector('#df-29f3d024-d450-47ee-9f36-f7dd6a78d0e8');\n",
              "          const dataTable =\n",
              "            await google.colab.kernel.invokeFunction('convertToInteractive',\n",
              "                                                     [key], {});\n",
              "          if (!dataTable) return;\n",
              "\n",
              "          const docLinkHtml = 'Like what you see? Visit the ' +\n",
              "            '<a target=\"_blank\" href=https://colab.research.google.com/notebooks/data_table.ipynb>data table notebook</a>'\n",
              "            + ' to learn more about interactive tables.';\n",
              "          element.innerHTML = '';\n",
              "          dataTable['output_type'] = 'display_data';\n",
              "          await google.colab.output.renderOutput(dataTable, element);\n",
              "          const docLink = document.createElement('div');\n",
              "          docLink.innerHTML = docLinkHtml;\n",
              "          element.appendChild(docLink);\n",
              "        }\n",
              "      </script>\n",
              "    </div>\n",
              "  </div>\n",
              "  "
            ],
            "text/plain": [
              "   id  label\n",
              "0   0     24\n",
              "1   1      2\n",
              "2   2     17\n",
              "3   3     14\n",
              "4   4     19"
            ]
          },
          "execution_count": 124,
          "metadata": {},
          "output_type": "execute_result"
        }
      ],
      "source": [
        "train_df = pd.read_csv('/dataset/train.csv')\n",
        "train_df.head()"
      ]
    },
    {
      "cell_type": "code",
      "execution_count": 125,
      "metadata": {
        "colab": {
          "base_uri": "https://localhost:8080/"
        },
        "execution": {
          "iopub.execute_input": "2022-03-25T03:36:21.524381Z",
          "iopub.status.busy": "2022-03-25T03:36:21.523989Z",
          "iopub.status.idle": "2022-03-25T03:36:21.532692Z",
          "shell.execute_reply": "2022-03-25T03:36:21.531962Z",
          "shell.execute_reply.started": "2022-03-25T03:36:21.524347Z"
        },
        "id": "3SiimdQugPAI",
        "outputId": "f133fbee-8b57-4a80-b19d-1fffa44ea6f9"
      },
      "outputs": [
        {
          "data": {
            "text/plain": [
              "28"
            ]
          },
          "execution_count": 125,
          "metadata": {},
          "output_type": "execute_result"
        }
      ],
      "source": [
        "alpha = 'أ ب ت ث ج ح خ د ذ ر ز س ش ص ض ط ظ ع غ ف ق ك ل م ن هـ و ي'\n",
        "alpha = alpha.split()\n",
        "m = {i+1: alpha[i] for i in range(len(alpha))}\n",
        "len(alpha)"
      ]
    },
    {
      "cell_type": "code",
      "execution_count": 126,
      "metadata": {
        "colab": {
          "base_uri": "https://localhost:8080/",
          "height": 206
        },
        "execution": {
          "iopub.execute_input": "2022-03-25T03:36:21.537210Z",
          "iopub.status.busy": "2022-03-25T03:36:21.536232Z",
          "iopub.status.idle": "2022-03-25T03:36:21.555954Z",
          "shell.execute_reply": "2022-03-25T03:36:21.555359Z",
          "shell.execute_reply.started": "2022-03-25T03:36:21.537172Z"
        },
        "id": "9wh4qzeKgPAK",
        "outputId": "1bcfef35-b925-4918-c7bf-b830ab9ab7d6"
      },
      "outputs": [
        {
          "data": {
            "text/html": [
              "\n",
              "  <div id=\"df-b6ae0eb2-6874-47dc-b959-fefc9c6297ce\">\n",
              "    <div class=\"colab-df-container\">\n",
              "      <div>\n",
              "<style scoped>\n",
              "    .dataframe tbody tr th:only-of-type {\n",
              "        vertical-align: middle;\n",
              "    }\n",
              "\n",
              "    .dataframe tbody tr th {\n",
              "        vertical-align: top;\n",
              "    }\n",
              "\n",
              "    .dataframe thead th {\n",
              "        text-align: right;\n",
              "    }\n",
              "</style>\n",
              "<table border=\"1\" class=\"dataframe\">\n",
              "  <thead>\n",
              "    <tr style=\"text-align: right;\">\n",
              "      <th></th>\n",
              "      <th>id</th>\n",
              "      <th>label</th>\n",
              "      <th>alpha</th>\n",
              "    </tr>\n",
              "  </thead>\n",
              "  <tbody>\n",
              "    <tr>\n",
              "      <th>0</th>\n",
              "      <td>0</td>\n",
              "      <td>24</td>\n",
              "      <td>م</td>\n",
              "    </tr>\n",
              "    <tr>\n",
              "      <th>1</th>\n",
              "      <td>1</td>\n",
              "      <td>2</td>\n",
              "      <td>ب</td>\n",
              "    </tr>\n",
              "    <tr>\n",
              "      <th>2</th>\n",
              "      <td>2</td>\n",
              "      <td>17</td>\n",
              "      <td>ظ</td>\n",
              "    </tr>\n",
              "    <tr>\n",
              "      <th>3</th>\n",
              "      <td>3</td>\n",
              "      <td>14</td>\n",
              "      <td>ص</td>\n",
              "    </tr>\n",
              "    <tr>\n",
              "      <th>4</th>\n",
              "      <td>4</td>\n",
              "      <td>19</td>\n",
              "      <td>غ</td>\n",
              "    </tr>\n",
              "  </tbody>\n",
              "</table>\n",
              "</div>\n",
              "      <button class=\"colab-df-convert\" onclick=\"convertToInteractive('df-b6ae0eb2-6874-47dc-b959-fefc9c6297ce')\"\n",
              "              title=\"Convert this dataframe to an interactive table.\"\n",
              "              style=\"display:none;\">\n",
              "        \n",
              "  <svg xmlns=\"http://www.w3.org/2000/svg\" height=\"24px\"viewBox=\"0 0 24 24\"\n",
              "       width=\"24px\">\n",
              "    <path d=\"M0 0h24v24H0V0z\" fill=\"none\"/>\n",
              "    <path d=\"M18.56 5.44l.94 2.06.94-2.06 2.06-.94-2.06-.94-.94-2.06-.94 2.06-2.06.94zm-11 1L8.5 8.5l.94-2.06 2.06-.94-2.06-.94L8.5 2.5l-.94 2.06-2.06.94zm10 10l.94 2.06.94-2.06 2.06-.94-2.06-.94-.94-2.06-.94 2.06-2.06.94z\"/><path d=\"M17.41 7.96l-1.37-1.37c-.4-.4-.92-.59-1.43-.59-.52 0-1.04.2-1.43.59L10.3 9.45l-7.72 7.72c-.78.78-.78 2.05 0 2.83L4 21.41c.39.39.9.59 1.41.59.51 0 1.02-.2 1.41-.59l7.78-7.78 2.81-2.81c.8-.78.8-2.07 0-2.86zM5.41 20L4 18.59l7.72-7.72 1.47 1.35L5.41 20z\"/>\n",
              "  </svg>\n",
              "      </button>\n",
              "      \n",
              "  <style>\n",
              "    .colab-df-container {\n",
              "      display:flex;\n",
              "      flex-wrap:wrap;\n",
              "      gap: 12px;\n",
              "    }\n",
              "\n",
              "    .colab-df-convert {\n",
              "      background-color: #E8F0FE;\n",
              "      border: none;\n",
              "      border-radius: 50%;\n",
              "      cursor: pointer;\n",
              "      display: none;\n",
              "      fill: #1967D2;\n",
              "      height: 32px;\n",
              "      padding: 0 0 0 0;\n",
              "      width: 32px;\n",
              "    }\n",
              "\n",
              "    .colab-df-convert:hover {\n",
              "      background-color: #E2EBFA;\n",
              "      box-shadow: 0px 1px 2px rgba(60, 64, 67, 0.3), 0px 1px 3px 1px rgba(60, 64, 67, 0.15);\n",
              "      fill: #174EA6;\n",
              "    }\n",
              "\n",
              "    [theme=dark] .colab-df-convert {\n",
              "      background-color: #3B4455;\n",
              "      fill: #D2E3FC;\n",
              "    }\n",
              "\n",
              "    [theme=dark] .colab-df-convert:hover {\n",
              "      background-color: #434B5C;\n",
              "      box-shadow: 0px 1px 3px 1px rgba(0, 0, 0, 0.15);\n",
              "      filter: drop-shadow(0px 1px 2px rgba(0, 0, 0, 0.3));\n",
              "      fill: #FFFFFF;\n",
              "    }\n",
              "  </style>\n",
              "\n",
              "      <script>\n",
              "        const buttonEl =\n",
              "          document.querySelector('#df-b6ae0eb2-6874-47dc-b959-fefc9c6297ce button.colab-df-convert');\n",
              "        buttonEl.style.display =\n",
              "          google.colab.kernel.accessAllowed ? 'block' : 'none';\n",
              "\n",
              "        async function convertToInteractive(key) {\n",
              "          const element = document.querySelector('#df-b6ae0eb2-6874-47dc-b959-fefc9c6297ce');\n",
              "          const dataTable =\n",
              "            await google.colab.kernel.invokeFunction('convertToInteractive',\n",
              "                                                     [key], {});\n",
              "          if (!dataTable) return;\n",
              "\n",
              "          const docLinkHtml = 'Like what you see? Visit the ' +\n",
              "            '<a target=\"_blank\" href=https://colab.research.google.com/notebooks/data_table.ipynb>data table notebook</a>'\n",
              "            + ' to learn more about interactive tables.';\n",
              "          element.innerHTML = '';\n",
              "          dataTable['output_type'] = 'display_data';\n",
              "          await google.colab.output.renderOutput(dataTable, element);\n",
              "          const docLink = document.createElement('div');\n",
              "          docLink.innerHTML = docLinkHtml;\n",
              "          element.appendChild(docLink);\n",
              "        }\n",
              "      </script>\n",
              "    </div>\n",
              "  </div>\n",
              "  "
            ],
            "text/plain": [
              "   id  label alpha\n",
              "0   0     24     م\n",
              "1   1      2     ب\n",
              "2   2     17     ظ\n",
              "3   3     14     ص\n",
              "4   4     19     غ"
            ]
          },
          "execution_count": 126,
          "metadata": {},
          "output_type": "execute_result"
        }
      ],
      "source": [
        "train_df['alpha'] = train_df.label.map(m)\n",
        "\n",
        "train_df.head()\n"
      ]
    },
    {
      "cell_type": "code",
      "execution_count": 127,
      "metadata": {
        "execution": {
          "iopub.execute_input": "2022-03-25T03:36:21.557242Z",
          "iopub.status.busy": "2022-03-25T03:36:21.556933Z",
          "iopub.status.idle": "2022-03-25T03:36:21.561915Z",
          "shell.execute_reply": "2022-03-25T03:36:21.561242Z",
          "shell.execute_reply.started": "2022-03-25T03:36:21.557207Z"
        },
        "id": "sS-_CkbsgPAL"
      },
      "outputs": [],
      "source": [
        "train_imagas_path = Path(r'/dataset/train')\n",
        "\n"
      ]
    },
    {
      "cell_type": "code",
      "execution_count": 128,
      "metadata": {
        "colab": {
          "base_uri": "https://localhost:8080/"
        },
        "execution": {
          "iopub.execute_input": "2022-03-25T03:36:21.563851Z",
          "iopub.status.busy": "2022-03-25T03:36:21.563358Z",
          "iopub.status.idle": "2022-03-25T03:36:22.812488Z",
          "shell.execute_reply": "2022-03-25T03:36:22.811811Z",
          "shell.execute_reply.started": "2022-03-25T03:36:21.563816Z"
        },
        "id": "cFOpdd4dgPAL",
        "outputId": "cdd31b20-a42b-46d4-cd1c-1aad1aa7bc25"
      },
      "outputs": [
        {
          "data": {
            "text/plain": [
              "0    /content/train/00000.png\n",
              "1    /content/train/00001.png\n",
              "2    /content/train/00002.png\n",
              "3    /content/train/00003.png\n",
              "4    /content/train/00004.png\n",
              "Name: Filepath, dtype: object"
            ]
          },
          "execution_count": 128,
          "metadata": {},
          "output_type": "execute_result"
        }
      ],
      "source": [
        "## read these all training images paths as Series\n",
        "train_images_paths = pd.Series(sorted(list(train_imagas_path.glob(r'*.png'))), name='Filepath').astype(str)\n",
        "\n",
        "train_images_paths.head()\n"
      ]
    },
    {
      "cell_type": "code",
      "execution_count": 129,
      "metadata": {
        "colab": {
          "base_uri": "https://localhost:8080/",
          "height": 469
        },
        "execution": {
          "iopub.execute_input": "2022-03-25T03:36:22.814090Z",
          "iopub.status.busy": "2022-03-25T03:36:22.813820Z",
          "iopub.status.idle": "2022-03-25T03:36:24.267492Z",
          "shell.execute_reply": "2022-03-25T03:36:24.266722Z",
          "shell.execute_reply.started": "2022-03-25T03:36:22.814043Z"
        },
        "id": "5tnpdvzogPAN",
        "outputId": "cb0e11b4-0942-42d7-f47a-356d61afcc17"
      },
      "outputs": [
        {
          "data": {
            "image/png": "[encoded data removed]",
            "text/plain": [
              "<Figure size 864x576 with 28 Axes>"
            ]
          },
          "metadata": {
            "needs_background": "light"
          },
          "output_type": "display_data"
        }
      ],
      "source": [
        "img_key_value = {}\n",
        "for value in train_df['alpha'].unique():\n",
        "    img_key_value[value] = train_df[train_df['alpha']==value].index[0]\n",
        "    \n",
        "img_index = list(img_key_value.values())\n",
        "img_label = list(img_key_value.keys())\n",
        "\n",
        "fig, ax = plt.subplots(4, 7, figsize=(12, 8))\n",
        "\n",
        "i = 0\n",
        "for row in range(4):\n",
        "    for col in range(7):\n",
        "        plt.sca(ax[row, col])\n",
        "        plt.title(f'label = {img_label[i]}')\n",
        "        img = plt.imread(train_images_paths.iloc[img_index[i]])\n",
        "        plt.imshow(img)\n",
        "        plt.axis('off')\n",
        "        i+=1"
      ]
    },
    {
      "cell_type": "code",
      "execution_count": 130,
      "metadata": {
        "colab": {
          "base_uri": "https://localhost:8080/"
        },
        "execution": {
          "iopub.execute_input": "2022-03-25T03:36:24.268779Z",
          "iopub.status.busy": "2022-03-25T03:36:24.268538Z",
          "iopub.status.idle": "2022-03-25T03:36:24.276352Z",
          "shell.execute_reply": "2022-03-25T03:36:24.275402Z",
          "shell.execute_reply.started": "2022-03-25T03:36:24.268744Z"
        },
        "id": "Ha_qWmCwgPAP",
        "outputId": "0001d1a8-3cd9-45d0-b1b3-c8c5bd63e97a"
      },
      "outputs": [
        {
          "name": "stdout",
          "output_type": "stream",
          "text": [
            "shape of each Image is => (32, 32, 4)\n"
          ]
        }
      ],
      "source": [
        "img = plt.imread(train_images_paths.iloc[img_index[0]])\n",
        "print('shape of each Image is =>', img.shape)"
      ]
    },
    {
      "cell_type": "markdown",
      "metadata": {
        "id": "J16X0OtTgPAQ"
      },
      "source": [
        "**From the previous EDA we can conclude that we can take only the first 3 channels and some data augmentation techniques may make the model performs better.**"
      ]
    },
    {
      "cell_type": "code",
      "execution_count": 131,
      "metadata": {
        "colab": {
          "base_uri": "https://localhost:8080/"
        },
        "execution": {
          "iopub.execute_input": "2022-03-25T03:36:24.278975Z",
          "iopub.status.busy": "2022-03-25T03:36:24.278159Z",
          "iopub.status.idle": "2022-03-25T03:38:05.173501Z",
          "shell.execute_reply": "2022-03-25T03:38:05.172748Z",
          "shell.execute_reply.started": "2022-03-25T03:36:24.278923Z"
        },
        "id": "Si5O31IOgPAU",
        "outputId": "9e78ee60-13b3-4da7-91eb-b8f602a76daa"
      },
      "outputs": [
        {
          "name": "stdout",
          "output_type": "stream",
          "text": [
            "train_full_set.shape => (13440, 32, 32, 3)\n",
            "train_full_labels.shape => (13440,)\n"
          ]
        }
      ],
      "source": [
        "\n",
        "train_full_labels = train_df['label'].values\n",
        "train_full_set = np.empty((13440, 32, 32, 3), dtype=np.float32)  #take only the first 3 channels\n",
        "\n",
        "for idx, path in enumerate(train_images_paths):\n",
        "    img = plt.imread(path)\n",
        "    img = img[:,:,:3]\n",
        "    train_full_set[idx] = img\n",
        "\n",
        "print('train_full_set.shape =>', train_full_set.shape)\n",
        "print('train_full_labels.shape =>', train_full_labels.shape)\n"
      ]
    },
    {
      "cell_type": "code",
      "execution_count": 132,
      "metadata": {
        "colab": {
          "base_uri": "https://localhost:8080/"
        },
        "execution": {
          "iopub.execute_input": "2022-03-25T03:38:05.176470Z",
          "iopub.status.busy": "2022-03-25T03:38:05.176218Z",
          "iopub.status.idle": "2022-03-25T03:38:05.234804Z",
          "shell.execute_reply": "2022-03-25T03:38:05.234063Z",
          "shell.execute_reply.started": "2022-03-25T03:38:05.176433Z"
        },
        "id": "cEwz74e1gPAW",
        "outputId": "9bb3ed59-301e-46cf-b968-a8b531e9a073"
      },
      "outputs": [
        {
          "name": "stdout",
          "output_type": "stream",
          "text": [
            "X_train.shape => (10752, 32, 32, 3)\n",
            "X_valid.shape => (2688, 32, 32, 3)\n",
            "y_train.shape => (10752,)\n",
            "y_valid.shape => (2688,)\n"
          ]
        }
      ],
      "source": [
        "X_train, X_valid, y_train, y_valid = train_test_split(train_full_set, train_full_labels, test_size=0.2, shuffle=True, random_state=42)\n",
        "\n",
        "print('X_train.shape =>', X_train.shape)\n",
        "print('X_valid.shape =>', X_valid.shape)\n",
        "print('y_train.shape =>', y_train.shape)\n",
        "print('y_valid.shape =>', y_valid.shape)"
      ]
    },
    {
      "cell_type": "markdown",
      "metadata": {
        "id": "UzPBcoR3gPAX"
      },
      "source": [
        "# **Modeling**"
      ]
    },
    {
      "cell_type": "code",
      "execution_count": 133,
      "metadata": {
        "execution": {
          "iopub.execute_input": "2022-03-25T03:38:05.236378Z",
          "iopub.status.busy": "2022-03-25T03:38:05.235934Z",
          "iopub.status.idle": "2022-03-25T03:38:07.856251Z",
          "shell.execute_reply": "2022-03-25T03:38:07.855393Z",
          "shell.execute_reply.started": "2022-03-25T03:38:05.236338Z"
        },
        "id": "XKqFYsTNgPAX"
      },
      "outputs": [],
      "source": [
        "model = tf.keras.models.Sequential([\n",
        "    tf.keras.layers.Conv2D(filters=64, kernel_size=3, activation='relu',input_shape=(32, 32, 3)),\n",
        "    tf.keras.layers.Conv2D(filters=64, kernel_size=3, activation='relu', padding=\"same\"),\n",
        "    tf.keras.layers.Conv2D(filters=64, kernel_size=3, activation='relu', padding=\"same\"),\n",
        "    tf.keras.layers.MaxPooling2D(pool_size=2,strides=(1, 1)),\n",
        "    \n",
        "    tf.keras.layers.Conv2D(filters=128, kernel_size=3, activation='relu',padding=\"same\"),\n",
        "    tf.keras.layers.Conv2D(filters=128, kernel_size=3, padding=\"valid\", activation='relu'),\n",
        "    tf.keras.layers.MaxPooling2D(pool_size=2,strides=(1, 1)),\n",
        "     \n",
        "    tf.keras.layers.Conv2D(filters=256, kernel_size=3, activation='relu',padding=\"same\" ),\n",
        "    tf.keras.layers.Conv2D(filters=256, kernel_size=3, padding=\"valid\", activation='relu'),\n",
        "    tf.keras.layers.MaxPooling2D(pool_size=2,strides=(1, 1)),\n",
        "    \n",
        "    tf.keras.layers.Flatten(),\n",
        "    tf.keras.layers.Dropout(0.5),\n",
        "    tf.keras.layers.Dense(29, activation='softmax')\n",
        " \n",
        "])"
      ]
    },
    {
      "cell_type": "code",
      "execution_count": 134,
      "metadata": {
        "colab": {
          "base_uri": "https://localhost:8080/"
        },
        "execution": {
          "iopub.execute_input": "2022-03-25T03:38:07.858204Z",
          "iopub.status.busy": "2022-03-25T03:38:07.857379Z",
          "iopub.status.idle": "2022-03-25T03:38:09.758998Z",
          "shell.execute_reply": "2022-03-25T03:38:09.758285Z",
          "shell.execute_reply.started": "2022-03-25T03:38:07.858167Z"
        },
        "id": "4fwPPiOVgPAZ",
        "outputId": "9a171320-3e60-4829-de98-0174c24bbae5"
      },
      "outputs": [
        {
          "name": "stdout",
          "output_type": "stream",
          "text": [
            "WARNING:tensorflow:Compiled the loaded model, but the compiled metrics have yet to be built. `model.compile_metrics` will be empty until you train or evaluate the model.\n",
            "INFO:tensorflow:Assets written to: ../Model/assets\n",
            "WARNING:tensorflow:No training configuration found in save file, so the model was *not* compiled. Compile it manually.\n"
          ]
        }
      ],
      "source": [
        "model.save('../Model') #Save model for further use\n",
        "model1 = tf.keras.models.load_model('../Model')\n",
        "model1.compile(loss='sparse_categorical_crossentropy', optimizer='adam', metrics=['accuracy'])"
      ]
    },
    {
      "cell_type": "code",
      "execution_count": 135,
      "metadata": {
        "colab": {
          "base_uri": "https://localhost:8080/"
        },
        "execution": {
          "iopub.execute_input": "2022-03-25T03:38:10.422752Z",
          "iopub.status.busy": "2022-03-25T03:38:10.422512Z",
          "iopub.status.idle": "2022-03-25T03:46:33.373905Z",
          "shell.execute_reply": "2022-03-25T03:46:33.373056Z",
          "shell.execute_reply.started": "2022-03-25T03:38:10.422720Z"
        },
        "id": "t8QykYcAgPAa",
        "outputId": "81ec9d71-3ad7-4af3-ec7b-cdb2b4504a6c"
      },
      "outputs": [
        {
          "name": "stdout",
          "output_type": "stream",
          "text": [
            "Epoch 1/100\n",
            "84/84 [==============================] - 20s 228ms/step - loss: 1.9971 - accuracy: 0.4039 - val_loss: 1.1618 - val_accuracy: 0.6447\n",
            "Epoch 2/100\n",
            "84/84 [==============================] - 20s 239ms/step - loss: 0.8027 - accuracy: 0.7517 - val_loss: 0.6202 - val_accuracy: 0.8028\n",
            "Epoch 3/100\n",
            "84/84 [==============================] - 19s 224ms/step - loss: 0.4313 - accuracy: 0.8645 - val_loss: 0.3960 - val_accuracy: 0.8791\n",
            "Epoch 4/100\n",
            "84/84 [==============================] - 19s 224ms/step - loss: 0.2651 - accuracy: 0.9172 - val_loss: 0.3408 - val_accuracy: 0.8981\n",
            "Epoch 5/100\n",
            "84/84 [==============================] - 20s 239ms/step - loss: 0.1917 - accuracy: 0.9376 - val_loss: 0.3634 - val_accuracy: 0.8962\n",
            "Epoch 6/100\n",
            "84/84 [==============================] - 19s 224ms/step - loss: 0.1463 - accuracy: 0.9519 - val_loss: 0.3002 - val_accuracy: 0.9178\n",
            "Epoch 7/100\n",
            "84/84 [==============================] - 20s 238ms/step - loss: 0.1112 - accuracy: 0.9634 - val_loss: 0.2404 - val_accuracy: 0.9315\n",
            "Epoch 8/100\n",
            "84/84 [==============================] - 19s 224ms/step - loss: 0.0850 - accuracy: 0.9702 - val_loss: 0.3279 - val_accuracy: 0.9185\n",
            "Epoch 9/100\n",
            "84/84 [==============================] - 19s 224ms/step - loss: 0.0648 - accuracy: 0.9767 - val_loss: 0.3137 - val_accuracy: 0.9327\n",
            "Epoch 10/100\n",
            "84/84 [==============================] - 19s 224ms/step - loss: 0.0578 - accuracy: 0.9805 - val_loss: 0.2942 - val_accuracy: 0.9368\n",
            "Epoch 11/100\n",
            "84/84 [==============================] - 19s 224ms/step - loss: 0.0581 - accuracy: 0.9794 - val_loss: 0.3260 - val_accuracy: 0.9289\n",
            "Epoch 12/100\n",
            "84/84 [==============================] - 19s 224ms/step - loss: 0.0564 - accuracy: 0.9808 - val_loss: 0.2937 - val_accuracy: 0.9356\n",
            "Epoch 13/100\n",
            "84/84 [==============================] - 19s 224ms/step - loss: 0.0397 - accuracy: 0.9869 - val_loss: 0.3298 - val_accuracy: 0.9338\n",
            "Epoch 14/100\n",
            "84/84 [==============================] - 19s 224ms/step - loss: 0.0423 - accuracy: 0.9857 - val_loss: 0.3072 - val_accuracy: 0.9360\n",
            "Epoch 15/100\n",
            "84/84 [==============================] - 19s 224ms/step - loss: 0.0349 - accuracy: 0.9876 - val_loss: 0.2691 - val_accuracy: 0.9472\n",
            "Epoch 16/100\n",
            "84/84 [==============================] - 19s 224ms/step - loss: 0.0280 - accuracy: 0.9903 - val_loss: 0.2722 - val_accuracy: 0.9449\n",
            "Epoch 17/100\n",
            "84/84 [==============================] - 19s 223ms/step - loss: 0.0333 - accuracy: 0.9893 - val_loss: 0.2841 - val_accuracy: 0.9416\n",
            "Epoch 18/100\n",
            "84/84 [==============================] - 20s 238ms/step - loss: 0.0375 - accuracy: 0.9882 - val_loss: 0.2710 - val_accuracy: 0.9453\n",
            "Epoch 19/100\n",
            "84/84 [==============================] - 19s 224ms/step - loss: 0.0156 - accuracy: 0.9953 - val_loss: 0.2985 - val_accuracy: 0.9408\n",
            "Epoch 20/100\n",
            "84/84 [==============================] - 19s 224ms/step - loss: 0.0286 - accuracy: 0.9911 - val_loss: 0.3461 - val_accuracy: 0.9401\n",
            "Epoch 21/100\n",
            "84/84 [==============================] - 19s 224ms/step - loss: 0.0317 - accuracy: 0.9894 - val_loss: 0.3328 - val_accuracy: 0.9345\n",
            "Epoch 22/100\n",
            "84/84 [==============================] - 20s 238ms/step - loss: 0.0352 - accuracy: 0.9875 - val_loss: 0.3217 - val_accuracy: 0.9327\n",
            "Epoch 23/100\n",
            "84/84 [==============================] - 19s 224ms/step - loss: 0.0218 - accuracy: 0.9927 - val_loss: 0.2997 - val_accuracy: 0.9435\n",
            "Epoch 24/100\n",
            "84/84 [==============================] - 19s 224ms/step - loss: 0.0203 - accuracy: 0.9931 - val_loss: 0.2885 - val_accuracy: 0.9464\n",
            "Epoch 25/100\n",
            "84/84 [==============================] - 20s 238ms/step - loss: 0.0259 - accuracy: 0.9915 - val_loss: 0.3034 - val_accuracy: 0.9498\n",
            "Epoch 26/100\n",
            "84/84 [==============================] - 19s 224ms/step - loss: 0.0236 - accuracy: 0.9910 - val_loss: 0.3568 - val_accuracy: 0.9308\n",
            "Epoch 27/100\n",
            "84/84 [==============================] - 20s 238ms/step - loss: 0.0269 - accuracy: 0.9914 - val_loss: 0.3272 - val_accuracy: 0.9371\n",
            "Epoch 28/100\n",
            "84/84 [==============================] - 19s 224ms/step - loss: 0.0285 - accuracy: 0.9909 - val_loss: 0.2788 - val_accuracy: 0.9457\n",
            "Epoch 29/100\n",
            "84/84 [==============================] - 19s 224ms/step - loss: 0.0162 - accuracy: 0.9945 - val_loss: 0.3333 - val_accuracy: 0.9423\n",
            "Epoch 30/100\n",
            "84/84 [==============================] - 19s 224ms/step - loss: 0.0275 - accuracy: 0.9911 - val_loss: 0.3084 - val_accuracy: 0.9397\n",
            "Epoch 31/100\n",
            "84/84 [==============================] - 20s 238ms/step - loss: 0.0297 - accuracy: 0.9897 - val_loss: 0.2514 - val_accuracy: 0.9494\n",
            "Epoch 32/100\n",
            "84/84 [==============================] - 19s 224ms/step - loss: 0.0158 - accuracy: 0.9949 - val_loss: 0.3261 - val_accuracy: 0.9431\n",
            "Epoch 33/100\n",
            "84/84 [==============================] - 19s 223ms/step - loss: 0.0273 - accuracy: 0.9913 - val_loss: 0.2841 - val_accuracy: 0.9420\n",
            "Epoch 34/100\n",
            "84/84 [==============================] - 19s 224ms/step - loss: 0.0208 - accuracy: 0.9927 - val_loss: 0.3815 - val_accuracy: 0.9334\n",
            "Epoch 35/100\n",
            "84/84 [==============================] - 19s 224ms/step - loss: 0.0148 - accuracy: 0.9960 - val_loss: 0.3984 - val_accuracy: 0.9405\n",
            "Epoch 36/100\n",
            "84/84 [==============================] - 19s 224ms/step - loss: 0.0188 - accuracy: 0.9940 - val_loss: 0.3244 - val_accuracy: 0.9516\n",
            "Epoch 37/100\n",
            "84/84 [==============================] - 20s 238ms/step - loss: 0.0117 - accuracy: 0.9960 - val_loss: 0.3623 - val_accuracy: 0.9427\n",
            "Epoch 38/100\n",
            "84/84 [==============================] - 19s 223ms/step - loss: 0.0202 - accuracy: 0.9933 - val_loss: 0.3333 - val_accuracy: 0.9453\n",
            "Epoch 39/100\n",
            "84/84 [==============================] - 20s 238ms/step - loss: 0.0212 - accuracy: 0.9939 - val_loss: 0.3392 - val_accuracy: 0.9431\n",
            "Epoch 40/100\n",
            "84/84 [==============================] - 19s 223ms/step - loss: 0.0161 - accuracy: 0.9948 - val_loss: 0.2948 - val_accuracy: 0.9475\n",
            "Epoch 41/100\n",
            "84/84 [==============================] - 20s 238ms/step - loss: 0.0146 - accuracy: 0.9955 - val_loss: 0.2966 - val_accuracy: 0.9479\n",
            "Epoch 42/100\n",
            "84/84 [==============================] - 19s 223ms/step - loss: 0.0106 - accuracy: 0.9959 - val_loss: 0.3307 - val_accuracy: 0.9498\n",
            "Epoch 43/100\n",
            "84/84 [==============================] - 20s 238ms/step - loss: 0.0234 - accuracy: 0.9913 - val_loss: 0.3586 - val_accuracy: 0.9390\n",
            "Epoch 44/100\n",
            "84/84 [==============================] - 20s 238ms/step - loss: 0.0196 - accuracy: 0.9942 - val_loss: 0.3245 - val_accuracy: 0.9405\n",
            "Epoch 45/100\n",
            "84/84 [==============================] - 20s 238ms/step - loss: 0.0153 - accuracy: 0.9953 - val_loss: 0.3137 - val_accuracy: 0.9446\n",
            "Epoch 46/100\n",
            "84/84 [==============================] - 20s 238ms/step - loss: 0.0155 - accuracy: 0.9943 - val_loss: 0.3244 - val_accuracy: 0.9475\n",
            "Epoch 47/100\n",
            "84/84 [==============================] - 19s 224ms/step - loss: 0.0197 - accuracy: 0.9940 - val_loss: 0.3312 - val_accuracy: 0.9379\n",
            "Epoch 48/100\n",
            "84/84 [==============================] - 19s 223ms/step - loss: 0.0234 - accuracy: 0.9931 - val_loss: 0.3255 - val_accuracy: 0.9487\n",
            "Epoch 49/100\n",
            "84/84 [==============================] - 19s 223ms/step - loss: 0.0241 - accuracy: 0.9927 - val_loss: 0.2566 - val_accuracy: 0.9546\n",
            "Epoch 50/100\n",
            "84/84 [==============================] - 19s 223ms/step - loss: 0.0135 - accuracy: 0.9960 - val_loss: 0.2795 - val_accuracy: 0.9557\n",
            "Epoch 51/100\n",
            "84/84 [==============================] - 20s 238ms/step - loss: 0.0059 - accuracy: 0.9981 - val_loss: 0.3417 - val_accuracy: 0.9524\n",
            "Epoch 52/100\n",
            "84/84 [==============================] - 19s 224ms/step - loss: 0.0144 - accuracy: 0.9954 - val_loss: 0.3580 - val_accuracy: 0.9490\n",
            "Epoch 53/100\n",
            "84/84 [==============================] - 20s 238ms/step - loss: 0.0275 - accuracy: 0.9922 - val_loss: 0.3195 - val_accuracy: 0.9539\n",
            "Epoch 54/100\n",
            "84/84 [==============================] - 19s 223ms/step - loss: 0.0162 - accuracy: 0.9954 - val_loss: 0.3437 - val_accuracy: 0.9453\n",
            "Epoch 55/100\n",
            "84/84 [==============================] - 19s 223ms/step - loss: 0.0072 - accuracy: 0.9974 - val_loss: 0.3721 - val_accuracy: 0.9516\n",
            "Epoch 56/100\n",
            "84/84 [==============================] - 20s 238ms/step - loss: 0.0088 - accuracy: 0.9974 - val_loss: 0.3843 - val_accuracy: 0.9520\n",
            "Epoch 57/100\n",
            "84/84 [==============================] - 19s 223ms/step - loss: 0.0179 - accuracy: 0.9948 - val_loss: 0.3627 - val_accuracy: 0.9524\n",
            "Epoch 58/100\n",
            "84/84 [==============================] - 20s 238ms/step - loss: 0.0163 - accuracy: 0.9954 - val_loss: 0.3127 - val_accuracy: 0.9505\n",
            "Epoch 59/100\n",
            "84/84 [==============================] - 20s 238ms/step - loss: 0.0085 - accuracy: 0.9973 - val_loss: 0.3897 - val_accuracy: 0.9498\n",
            "Epoch 60/100\n",
            "84/84 [==============================] - 19s 223ms/step - loss: 0.0156 - accuracy: 0.9944 - val_loss: 0.3259 - val_accuracy: 0.9509\n",
            "Epoch 61/100\n",
            "84/84 [==============================] - 19s 223ms/step - loss: 0.0158 - accuracy: 0.9947 - val_loss: 0.3238 - val_accuracy: 0.9516\n",
            "Epoch 62/100\n",
            "84/84 [==============================] - 19s 223ms/step - loss: 0.0119 - accuracy: 0.9967 - val_loss: 0.3564 - val_accuracy: 0.9501\n",
            "Epoch 63/100\n",
            "84/84 [==============================] - 20s 238ms/step - loss: 0.0206 - accuracy: 0.9931 - val_loss: 0.3020 - val_accuracy: 0.9520\n",
            "Epoch 64/100\n",
            "84/84 [==============================] - 20s 238ms/step - loss: 0.0051 - accuracy: 0.9982 - val_loss: 0.3587 - val_accuracy: 0.9539\n",
            "Epoch 65/100\n",
            "84/84 [==============================] - 19s 224ms/step - loss: 0.0056 - accuracy: 0.9983 - val_loss: 0.3431 - val_accuracy: 0.9565\n",
            "Epoch 66/100\n",
            "84/84 [==============================] - 19s 224ms/step - loss: 0.0175 - accuracy: 0.9950 - val_loss: 0.3598 - val_accuracy: 0.9416\n",
            "Epoch 67/100\n",
            "84/84 [==============================] - 19s 223ms/step - loss: 0.0221 - accuracy: 0.9922 - val_loss: 0.3638 - val_accuracy: 0.9487\n",
            "Epoch 68/100\n",
            "84/84 [==============================] - 19s 224ms/step - loss: 0.0173 - accuracy: 0.9945 - val_loss: 0.3956 - val_accuracy: 0.9446\n",
            "Epoch 69/100\n",
            "84/84 [==============================] - 19s 224ms/step - loss: 0.0181 - accuracy: 0.9945 - val_loss: 0.3270 - val_accuracy: 0.9464\n",
            "Epoch 70/100\n",
            "84/84 [==============================] - 20s 238ms/step - loss: 0.0126 - accuracy: 0.9963 - val_loss: 0.3113 - val_accuracy: 0.9505\n",
            "Epoch 71/100\n",
            "84/84 [==============================] - 19s 223ms/step - loss: 0.0070 - accuracy: 0.9977 - val_loss: 0.3104 - val_accuracy: 0.9542\n",
            "Epoch 72/100\n",
            "84/84 [==============================] - 19s 223ms/step - loss: 0.0096 - accuracy: 0.9969 - val_loss: 0.3696 - val_accuracy: 0.9490\n",
            "Epoch 73/100\n",
            "84/84 [==============================] - 20s 238ms/step - loss: 0.0178 - accuracy: 0.9951 - val_loss: 0.3247 - val_accuracy: 0.9520\n",
            "Epoch 74/100\n",
            "84/84 [==============================] - 19s 223ms/step - loss: 0.0052 - accuracy: 0.9982 - val_loss: 0.3474 - val_accuracy: 0.9520\n",
            "Epoch 75/100\n",
            "84/84 [==============================] - 20s 238ms/step - loss: 0.0074 - accuracy: 0.9967 - val_loss: 0.3953 - val_accuracy: 0.9483\n",
            "Epoch 76/100\n",
            "84/84 [==============================] - 20s 238ms/step - loss: 0.0151 - accuracy: 0.9955 - val_loss: 0.3380 - val_accuracy: 0.9520\n",
            "Epoch 77/100\n",
            "84/84 [==============================] - 19s 224ms/step - loss: 0.0200 - accuracy: 0.9940 - val_loss: 0.4642 - val_accuracy: 0.9364\n",
            "Epoch 78/100\n",
            "84/84 [==============================] - 19s 223ms/step - loss: 0.0133 - accuracy: 0.9960 - val_loss: 0.3478 - val_accuracy: 0.9487\n",
            "Epoch 79/100\n",
            "84/84 [==============================] - 20s 237ms/step - loss: 0.0056 - accuracy: 0.9980 - val_loss: 0.4887 - val_accuracy: 0.9408\n",
            "Epoch 80/100\n",
            "84/84 [==============================] - 19s 223ms/step - loss: 0.0068 - accuracy: 0.9980 - val_loss: 0.3754 - val_accuracy: 0.9528\n",
            "Epoch 81/100\n",
            "84/84 [==============================] - 20s 238ms/step - loss: 0.0066 - accuracy: 0.9985 - val_loss: 0.3636 - val_accuracy: 0.9513\n",
            "Epoch 82/100\n",
            "84/84 [==============================] - 20s 237ms/step - loss: 0.0086 - accuracy: 0.9974 - val_loss: 0.3797 - val_accuracy: 0.9494\n",
            "Epoch 83/100\n",
            "84/84 [==============================] - 20s 237ms/step - loss: 0.0073 - accuracy: 0.9980 - val_loss: 0.3613 - val_accuracy: 0.9531\n",
            "Epoch 84/100\n",
            "84/84 [==============================] - 19s 223ms/step - loss: 0.0202 - accuracy: 0.9934 - val_loss: 0.3891 - val_accuracy: 0.9446\n",
            "Epoch 85/100\n",
            "84/84 [==============================] - 19s 223ms/step - loss: 0.0133 - accuracy: 0.9954 - val_loss: 0.4396 - val_accuracy: 0.9420\n",
            "Epoch 86/100\n",
            "84/84 [==============================] - 19s 223ms/step - loss: 0.0128 - accuracy: 0.9969 - val_loss: 0.3433 - val_accuracy: 0.9565\n",
            "Epoch 87/100\n",
            "84/84 [==============================] - 19s 223ms/step - loss: 0.0056 - accuracy: 0.9985 - val_loss: 0.3416 - val_accuracy: 0.9524\n",
            "Epoch 88/100\n",
            "84/84 [==============================] - 20s 238ms/step - loss: 0.0101 - accuracy: 0.9973 - val_loss: 0.3186 - val_accuracy: 0.9520\n",
            "Epoch 89/100\n",
            "84/84 [==============================] - 19s 223ms/step - loss: 0.0121 - accuracy: 0.9968 - val_loss: 0.3781 - val_accuracy: 0.9468\n",
            "Epoch 90/100\n",
            "84/84 [==============================] - 19s 223ms/step - loss: 0.0090 - accuracy: 0.9971 - val_loss: 0.4508 - val_accuracy: 0.9490\n",
            "Epoch 91/100\n",
            "84/84 [==============================] - 19s 223ms/step - loss: 0.0306 - accuracy: 0.9927 - val_loss: 0.3462 - val_accuracy: 0.9501\n",
            "Epoch 92/100\n",
            "84/84 [==============================] - 20s 238ms/step - loss: 0.0160 - accuracy: 0.9954 - val_loss: 0.2729 - val_accuracy: 0.9531\n",
            "Epoch 93/100\n",
            "84/84 [==============================] - 20s 238ms/step - loss: 0.0042 - accuracy: 0.9989 - val_loss: 0.3218 - val_accuracy: 0.9546\n",
            "Epoch 94/100\n",
            "84/84 [==============================] - 20s 238ms/step - loss: 0.0042 - accuracy: 0.9987 - val_loss: 0.3480 - val_accuracy: 0.9531\n",
            "Epoch 95/100\n",
            "84/84 [==============================] - 20s 238ms/step - loss: 0.0041 - accuracy: 0.9987 - val_loss: 0.3543 - val_accuracy: 0.9516\n",
            "Epoch 96/100\n",
            "84/84 [==============================] - 20s 238ms/step - loss: 0.0091 - accuracy: 0.9971 - val_loss: 0.3928 - val_accuracy: 0.9479\n",
            "Epoch 97/100\n",
            "84/84 [==============================] - 19s 223ms/step - loss: 0.0110 - accuracy: 0.9971 - val_loss: 0.3844 - val_accuracy: 0.9490\n",
            "Epoch 98/100\n",
            "84/84 [==============================] - 20s 237ms/step - loss: 0.0098 - accuracy: 0.9977 - val_loss: 0.3206 - val_accuracy: 0.9524\n",
            "Epoch 99/100\n",
            "84/84 [==============================] - 19s 223ms/step - loss: 0.0026 - accuracy: 0.9993 - val_loss: 0.3309 - val_accuracy: 0.9561\n",
            "Epoch 100/100\n",
            "84/84 [==============================] - 19s 223ms/step - loss: 0.0030 - accuracy: 0.9989 - val_loss: 0.3899 - val_accuracy: 0.9550\n"
          ]
        }
      ],
      "source": [
        "history = model1.fit(X_train, y_train, validation_data=(X_valid, y_valid), epochs=100, batch_size=128)"
      ]
    },
    {
      "cell_type": "markdown",
      "metadata": {
        "id": "la2Uiv_sgPAa"
      },
      "source": [
        "**Error Analysis**"
      ]
    },
    {
      "cell_type": "code",
      "execution_count": 136,
      "metadata": {
        "colab": {
          "base_uri": "https://localhost:8080/",
          "height": 395
        },
        "execution": {
          "iopub.execute_input": "2022-03-25T03:46:33.375735Z",
          "iopub.status.busy": "2022-03-25T03:46:33.375385Z",
          "iopub.status.idle": "2022-03-25T03:46:33.602570Z",
          "shell.execute_reply": "2022-03-25T03:46:33.601915Z",
          "shell.execute_reply.started": "2022-03-25T03:46:33.375694Z"
        },
        "id": "YkMsal6ngPAb",
        "outputId": "2583e794-6d79-4889-eb6b-d62bb00b0d9c"
      },
      "outputs": [
        {
          "data": {
            "text/plain": [
              "(0.0, 1.0)"
            ]
          },
          "execution_count": 136,
          "metadata": {},
          "output_type": "execute_result"
        },
        {
          "data": {
            "image/png": "[encoded data removed]",
            "text/plain": [
              "<Figure size 720x432 with 1 Axes>"
            ]
          },
          "metadata": {
            "needs_background": "light"
          },
          "output_type": "display_data"
        }
      ],
      "source": [
        "subset = {key: history.history[key] for key in ['loss','val_loss']}\n",
        "ax = pd.DataFrame(subset).plot(figsize=(10, 6));\n",
        "ax.set_ylim(0,1)"
      ]
    },
    {
      "cell_type": "markdown",
      "metadata": {
        "id": "JSr7UUsmgPAc"
      },
      "source": [
        "**From the above figure we can conclude that there is a gap between training loss and validation loss which is interpreted as overfitting. So, we have to try applying data augmentation to reduce this overfitting**"
      ]
    },
    {
      "cell_type": "code",
      "execution_count": 137,
      "metadata": {
        "colab": {
          "base_uri": "https://localhost:8080/"
        },
        "execution": {
          "iopub.execute_input": "2022-03-25T03:46:33.604422Z",
          "iopub.status.busy": "2022-03-25T03:46:33.603759Z",
          "iopub.status.idle": "2022-03-25T03:46:34.410987Z",
          "shell.execute_reply": "2022-03-25T03:46:34.409442Z",
          "shell.execute_reply.started": "2022-03-25T03:46:33.604384Z"
        },
        "id": "iOpq7qzNgPAc",
        "outputId": "7cd8db6a-4ce8-4aa1-de68-13de9ae3f647"
      },
      "outputs": [
        {
          "name": "stdout",
          "output_type": "stream",
          "text": [
            "acc_val_data = 0.9549851417541504\n"
          ]
        }
      ],
      "source": [
        "loss_val_data, acc_val_data = model1.evaluate(X_valid, y_valid, verbose=0)\n",
        "print(f\"acc_val_data = {acc_val_data}\")\n"
      ]
    },
    {
      "cell_type": "markdown",
      "metadata": {
        "id": "YkENJQ0egPAd"
      },
      "source": [
        "**2- CNN + Data Augmentation**"
      ]
    },
    {
      "cell_type": "code",
      "execution_count": 138,
      "metadata": {
        "colab": {
          "base_uri": "https://localhost:8080/"
        },
        "execution": {
          "iopub.execute_input": "2022-03-25T03:46:34.412592Z",
          "iopub.status.busy": "2022-03-25T03:46:34.412344Z",
          "iopub.status.idle": "2022-03-25T03:46:34.871820Z",
          "shell.execute_reply": "2022-03-25T03:46:34.871125Z",
          "shell.execute_reply.started": "2022-03-25T03:46:34.412556Z"
        },
        "id": "TRoinoSagPAe",
        "outputId": "7b7a9d3d-77d9-4036-e5d3-bcd8dde9ba13"
      },
      "outputs": [
        {
          "name": "stdout",
          "output_type": "stream",
          "text": [
            "WARNING:tensorflow:No training configuration found in save file, so the model was *not* compiled. Compile it manually.\n"
          ]
        }
      ],
      "source": [
        "model2 = tf.keras.models.load_model('../Model')\n",
        "model2.compile(loss='sparse_categorical_crossentropy', optimizer='adam', metrics=['accuracy'])"
      ]
    },
    {
      "cell_type": "code",
      "execution_count": 139,
      "metadata": {
        "execution": {
          "iopub.execute_input": "2022-03-25T03:46:34.873417Z",
          "iopub.status.busy": "2022-03-25T03:46:34.873185Z",
          "iopub.status.idle": "2022-03-25T03:46:34.879015Z",
          "shell.execute_reply": "2022-03-25T03:46:34.877464Z",
          "shell.execute_reply.started": "2022-03-25T03:46:34.873385Z"
        },
        "id": "w3Jj7VYjgPAe"
      },
      "outputs": [],
      "source": [
        "datagen = ImageDataGenerator(rotation_range=10,     # randomly rotate images in the range (degrees, 0 to 10)\n",
        "                            zoom_range = 0.1,       # Randomly zoom image \n",
        "                            width_shift_range=0.1,  # randomly shift images horizontally (fraction of total width)\n",
        "                            height_shift_range=0.1, # randomly shift images vertically (fraction of total height)\n",
        "                            validation_split = 0.1) # randomly flip images"
      ]
    },
    {
      "cell_type": "markdown",
      "metadata": {
        "id": "dhz_8ixIgPAf"
      },
      "source": [
        "**Here, traditional transformations are used that consist of using a combination of affine transformations to manipulate the training data. For each input image, we generate a ”duplicate” image that is rotated, zoomed in/out, shifted, and flipped. Both image and duplicate are fed into the predefined model**"
      ]
    },
    {
      "cell_type": "code",
      "execution_count": 140,
      "metadata": {
        "colab": {
          "base_uri": "https://localhost:8080/"
        },
        "id": "ZS05Yt0JgPAf",
        "outputId": "47ebd3f1-44dc-44d0-e5ee-aa1e35cd2cec"
      },
      "outputs": [
        {
          "name": "stdout",
          "output_type": "stream",
          "text": [
            "Epoch 1/100\n",
            "84/84 [==============================] - 20s 230ms/step - loss: 2.7486 - accuracy: 0.1955 - val_loss: 1.7330 - val_accuracy: 0.4364\n",
            "Epoch 2/100\n",
            "84/84 [==============================] - 19s 227ms/step - loss: 1.6659 - accuracy: 0.4732 - val_loss: 0.8070 - val_accuracy: 0.7403\n",
            "Epoch 3/100\n",
            "84/84 [==============================] - 19s 228ms/step - loss: 0.9168 - accuracy: 0.7128 - val_loss: 0.4434 - val_accuracy: 0.8583\n",
            "Epoch 4/100\n",
            "84/84 [==============================] - 19s 228ms/step - loss: 0.5964 - accuracy: 0.8126 - val_loss: 0.3239 - val_accuracy: 0.9048\n",
            "Epoch 5/100\n",
            "84/84 [==============================] - 19s 228ms/step - loss: 0.4273 - accuracy: 0.8674 - val_loss: 0.2518 - val_accuracy: 0.9219\n",
            "Epoch 6/100\n",
            "84/84 [==============================] - 19s 227ms/step - loss: 0.3594 - accuracy: 0.8894 - val_loss: 0.2064 - val_accuracy: 0.9397\n",
            "Epoch 7/100\n",
            "84/84 [==============================] - 19s 227ms/step - loss: 0.2709 - accuracy: 0.9178 - val_loss: 0.1624 - val_accuracy: 0.9513\n",
            "Epoch 8/100\n",
            "84/84 [==============================] - 20s 238ms/step - loss: 0.2403 - accuracy: 0.9255 - val_loss: 0.1568 - val_accuracy: 0.9568\n",
            "Epoch 9/100\n",
            "84/84 [==============================] - 20s 238ms/step - loss: 0.2248 - accuracy: 0.9345 - val_loss: 0.1344 - val_accuracy: 0.9658\n",
            "Epoch 10/100\n",
            "84/84 [==============================] - 19s 228ms/step - loss: 0.1793 - accuracy: 0.9436 - val_loss: 0.1395 - val_accuracy: 0.9639\n",
            "Epoch 11/100\n",
            "84/84 [==============================] - 20s 238ms/step - loss: 0.1691 - accuracy: 0.9472 - val_loss: 0.1173 - val_accuracy: 0.9691\n",
            "Epoch 12/100\n",
            "84/84 [==============================] - 19s 227ms/step - loss: 0.1695 - accuracy: 0.9479 - val_loss: 0.1192 - val_accuracy: 0.9665\n",
            "Epoch 13/100\n",
            "84/84 [==============================] - 20s 237ms/step - loss: 0.1533 - accuracy: 0.9537 - val_loss: 0.1093 - val_accuracy: 0.9743\n",
            "Epoch 14/100\n",
            "84/84 [==============================] - 20s 237ms/step - loss: 0.1355 - accuracy: 0.9583 - val_loss: 0.1001 - val_accuracy: 0.9717\n",
            "Epoch 15/100\n",
            "84/84 [==============================] - 20s 237ms/step - loss: 0.1304 - accuracy: 0.9613 - val_loss: 0.1493 - val_accuracy: 0.9561\n",
            "Epoch 16/100\n",
            "84/84 [==============================] - 19s 227ms/step - loss: 0.1188 - accuracy: 0.9630 - val_loss: 0.1221 - val_accuracy: 0.9624\n",
            "Epoch 17/100\n",
            "84/84 [==============================] - 19s 228ms/step - loss: 0.1205 - accuracy: 0.9628 - val_loss: 0.1358 - val_accuracy: 0.9661\n",
            "Epoch 18/100\n",
            "84/84 [==============================] - 19s 228ms/step - loss: 0.1087 - accuracy: 0.9670 - val_loss: 0.1255 - val_accuracy: 0.9676\n",
            "Epoch 19/100\n",
            "84/84 [==============================] - 20s 237ms/step - loss: 0.1239 - accuracy: 0.9620 - val_loss: 0.1010 - val_accuracy: 0.9751\n",
            "Epoch 20/100\n",
            "84/84 [==============================] - 19s 227ms/step - loss: 0.1075 - accuracy: 0.9671 - val_loss: 0.1098 - val_accuracy: 0.9732\n",
            "Epoch 21/100\n",
            "84/84 [==============================] - 19s 227ms/step - loss: 0.1003 - accuracy: 0.9710 - val_loss: 0.1226 - val_accuracy: 0.9699\n",
            "Epoch 22/100\n",
            "84/84 [==============================] - 20s 238ms/step - loss: 0.0991 - accuracy: 0.9701 - val_loss: 0.1147 - val_accuracy: 0.9740\n",
            "Epoch 23/100\n",
            "84/84 [==============================] - 20s 238ms/step - loss: 0.0949 - accuracy: 0.9724 - val_loss: 0.1070 - val_accuracy: 0.9725\n",
            "Epoch 24/100\n",
            "84/84 [==============================] - 20s 237ms/step - loss: 0.0906 - accuracy: 0.9703 - val_loss: 0.1051 - val_accuracy: 0.9777\n",
            "Epoch 25/100\n",
            "84/84 [==============================] - 20s 238ms/step - loss: 0.0828 - accuracy: 0.9738 - val_loss: 0.1013 - val_accuracy: 0.9736\n",
            "Epoch 26/100\n",
            "84/84 [==============================] - 19s 227ms/step - loss: 0.0959 - accuracy: 0.9713 - val_loss: 0.1011 - val_accuracy: 0.9773\n",
            "Epoch 27/100\n",
            "84/84 [==============================] - 20s 237ms/step - loss: 0.0860 - accuracy: 0.9720 - val_loss: 0.1209 - val_accuracy: 0.9699\n",
            "Epoch 28/100\n",
            "84/84 [==============================] - 20s 237ms/step - loss: 0.0779 - accuracy: 0.9764 - val_loss: 0.1030 - val_accuracy: 0.9769\n",
            "Epoch 29/100\n",
            "84/84 [==============================] - 19s 227ms/step - loss: 0.0801 - accuracy: 0.9745 - val_loss: 0.0932 - val_accuracy: 0.9758\n",
            "Epoch 30/100\n",
            "84/84 [==============================] - 20s 237ms/step - loss: 0.0799 - accuracy: 0.9741 - val_loss: 0.1251 - val_accuracy: 0.9732\n",
            "Epoch 31/100\n",
            "84/84 [==============================] - 20s 237ms/step - loss: 0.0884 - accuracy: 0.9738 - val_loss: 0.1024 - val_accuracy: 0.9773\n",
            "Epoch 32/100\n",
            "84/84 [==============================] - 19s 227ms/step - loss: 0.0826 - accuracy: 0.9738 - val_loss: 0.1228 - val_accuracy: 0.9732\n",
            "Epoch 33/100\n",
            "84/84 [==============================] - 20s 238ms/step - loss: 0.0830 - accuracy: 0.9746 - val_loss: 0.1112 - val_accuracy: 0.9747\n",
            "Epoch 34/100\n",
            "84/84 [==============================] - 19s 228ms/step - loss: 0.0673 - accuracy: 0.9795 - val_loss: 0.0986 - val_accuracy: 0.9773\n",
            "Epoch 35/100\n",
            "84/84 [==============================] - 20s 238ms/step - loss: 0.0672 - accuracy: 0.9781 - val_loss: 0.1361 - val_accuracy: 0.9699\n",
            "Epoch 36/100\n",
            "84/84 [==============================] - 20s 237ms/step - loss: 0.0669 - accuracy: 0.9781 - val_loss: 0.1172 - val_accuracy: 0.9728\n",
            "Epoch 37/100\n",
            "84/84 [==============================] - 19s 228ms/step - loss: 0.0676 - accuracy: 0.9791 - val_loss: 0.1234 - val_accuracy: 0.9751\n",
            "Epoch 38/100\n",
            "84/84 [==============================] - 20s 237ms/step - loss: 0.0641 - accuracy: 0.9810 - val_loss: 0.1098 - val_accuracy: 0.9725\n",
            "Epoch 39/100\n",
            "84/84 [==============================] - 20s 238ms/step - loss: 0.0594 - accuracy: 0.9836 - val_loss: 0.0987 - val_accuracy: 0.9781\n",
            "Epoch 40/100\n",
            "84/84 [==============================] - 20s 238ms/step - loss: 0.0627 - accuracy: 0.9803 - val_loss: 0.1013 - val_accuracy: 0.9795\n",
            "Epoch 41/100\n",
            "84/84 [==============================] - 20s 238ms/step - loss: 0.0619 - accuracy: 0.9809 - val_loss: 0.1131 - val_accuracy: 0.9766\n",
            "Epoch 42/100\n",
            "84/84 [==============================] - 20s 238ms/step - loss: 0.0595 - accuracy: 0.9813 - val_loss: 0.1547 - val_accuracy: 0.9661\n",
            "Epoch 43/100\n",
            "84/84 [==============================] - 20s 237ms/step - loss: 0.0754 - accuracy: 0.9776 - val_loss: 0.1183 - val_accuracy: 0.9743\n",
            "Epoch 44/100\n",
            "84/84 [==============================] - 20s 237ms/step - loss: 0.0564 - accuracy: 0.9814 - val_loss: 0.1162 - val_accuracy: 0.9784\n",
            "Epoch 45/100\n",
            "84/84 [==============================] - 20s 238ms/step - loss: 0.0620 - accuracy: 0.9800 - val_loss: 0.1149 - val_accuracy: 0.9751\n",
            "Epoch 46/100\n",
            "84/84 [==============================] - 19s 227ms/step - loss: 0.0566 - accuracy: 0.9819 - val_loss: 0.1246 - val_accuracy: 0.9777\n",
            "Epoch 47/100\n",
            "84/84 [==============================] - 19s 228ms/step - loss: 0.0628 - accuracy: 0.9820 - val_loss: 0.1155 - val_accuracy: 0.9758\n",
            "Epoch 48/100\n",
            "84/84 [==============================] - 19s 228ms/step - loss: 0.0667 - accuracy: 0.9807 - val_loss: 0.0973 - val_accuracy: 0.9810\n",
            "Epoch 49/100\n",
            "84/84 [==============================] - 19s 228ms/step - loss: 0.0562 - accuracy: 0.9838 - val_loss: 0.1200 - val_accuracy: 0.9766\n",
            "Epoch 50/100\n",
            "84/84 [==============================] - 19s 227ms/step - loss: 0.0500 - accuracy: 0.9826 - val_loss: 0.1246 - val_accuracy: 0.9740\n",
            "Epoch 51/100\n",
            "84/84 [==============================] - 19s 227ms/step - loss: 0.0580 - accuracy: 0.9812 - val_loss: 0.1017 - val_accuracy: 0.9807\n",
            "Epoch 52/100\n",
            "84/84 [==============================] - 19s 227ms/step - loss: 0.0565 - accuracy: 0.9829 - val_loss: 0.1008 - val_accuracy: 0.9777\n",
            "Epoch 53/100\n",
            "84/84 [==============================] - 20s 237ms/step - loss: 0.0575 - accuracy: 0.9820 - val_loss: 0.1310 - val_accuracy: 0.9725\n",
            "Epoch 54/100\n",
            "84/84 [==============================] - 19s 227ms/step - loss: 0.0622 - accuracy: 0.9810 - val_loss: 0.1203 - val_accuracy: 0.9766\n",
            "Epoch 55/100\n",
            "84/84 [==============================] - 19s 227ms/step - loss: 0.0519 - accuracy: 0.9846 - val_loss: 0.0984 - val_accuracy: 0.9788\n",
            "Epoch 56/100\n",
            "84/84 [==============================] - 19s 227ms/step - loss: 0.0417 - accuracy: 0.9874 - val_loss: 0.1104 - val_accuracy: 0.9769\n",
            "Epoch 57/100\n",
            "84/84 [==============================] - 19s 227ms/step - loss: 0.0640 - accuracy: 0.9794 - val_loss: 0.0884 - val_accuracy: 0.9795\n",
            "Epoch 58/100\n",
            "84/84 [==============================] - 19s 227ms/step - loss: 0.0520 - accuracy: 0.9834 - val_loss: 0.1350 - val_accuracy: 0.9676\n",
            "Epoch 59/100\n",
            "84/84 [==============================] - 19s 227ms/step - loss: 0.0530 - accuracy: 0.9834 - val_loss: 0.0949 - val_accuracy: 0.9810\n",
            "Epoch 60/100\n",
            "84/84 [==============================] - 19s 227ms/step - loss: 0.0527 - accuracy: 0.9844 - val_loss: 0.1016 - val_accuracy: 0.9773\n",
            "Epoch 61/100\n",
            "84/84 [==============================] - 20s 237ms/step - loss: 0.0478 - accuracy: 0.9857 - val_loss: 0.0955 - val_accuracy: 0.9829\n",
            "Epoch 62/100\n",
            "84/84 [==============================] - 20s 237ms/step - loss: 0.0486 - accuracy: 0.9853 - val_loss: 0.0974 - val_accuracy: 0.9792\n",
            "Epoch 63/100\n",
            "84/84 [==============================] - 20s 237ms/step - loss: 0.0449 - accuracy: 0.9879 - val_loss: 0.0831 - val_accuracy: 0.9814\n",
            "Epoch 64/100\n",
            "84/84 [==============================] - 19s 227ms/step - loss: 0.0412 - accuracy: 0.9874 - val_loss: 0.1024 - val_accuracy: 0.9784\n",
            "Epoch 65/100\n",
            "84/84 [==============================] - 19s 227ms/step - loss: 0.0575 - accuracy: 0.9824 - val_loss: 0.1148 - val_accuracy: 0.9769\n",
            "Epoch 66/100\n",
            "84/84 [==============================] - 20s 237ms/step - loss: 0.0515 - accuracy: 0.9832 - val_loss: 0.1254 - val_accuracy: 0.9732\n",
            "Epoch 67/100\n",
            "84/84 [==============================] - 20s 237ms/step - loss: 0.0493 - accuracy: 0.9837 - val_loss: 0.1124 - val_accuracy: 0.9792\n",
            "Epoch 68/100\n",
            "84/84 [==============================] - 20s 237ms/step - loss: 0.0382 - accuracy: 0.9887 - val_loss: 0.1095 - val_accuracy: 0.9740\n",
            "Epoch 69/100\n",
            "84/84 [==============================] - 20s 238ms/step - loss: 0.0398 - accuracy: 0.9874 - val_loss: 0.1963 - val_accuracy: 0.9587\n",
            "Epoch 70/100\n",
            "84/84 [==============================] - 20s 237ms/step - loss: 0.0593 - accuracy: 0.9833 - val_loss: 0.1227 - val_accuracy: 0.9747\n",
            "Epoch 71/100\n",
            "84/84 [==============================] - 20s 238ms/step - loss: 0.0437 - accuracy: 0.9857 - val_loss: 0.1235 - val_accuracy: 0.9754\n",
            "Epoch 72/100\n",
            "84/84 [==============================] - 20s 237ms/step - loss: 0.0411 - accuracy: 0.9886 - val_loss: 0.1125 - val_accuracy: 0.9754\n",
            "Epoch 73/100\n",
            "84/84 [==============================] - 20s 237ms/step - loss: 0.0448 - accuracy: 0.9868 - val_loss: 0.1241 - val_accuracy: 0.9732\n",
            "Epoch 74/100\n",
            "84/84 [==============================] - 19s 227ms/step - loss: 0.0449 - accuracy: 0.9860 - val_loss: 0.1049 - val_accuracy: 0.9758\n",
            "Epoch 75/100\n",
            "84/84 [==============================] - 20s 237ms/step - loss: 0.0425 - accuracy: 0.9863 - val_loss: 0.1111 - val_accuracy: 0.9773\n",
            "Epoch 76/100\n",
            "84/84 [==============================] - 19s 227ms/step - loss: 0.0569 - accuracy: 0.9814 - val_loss: 0.1138 - val_accuracy: 0.9799\n",
            "Epoch 77/100\n",
            "84/84 [==============================] - 20s 237ms/step - loss: 0.0368 - accuracy: 0.9880 - val_loss: 0.0909 - val_accuracy: 0.9810\n",
            "Epoch 78/100\n",
            "84/84 [==============================] - 19s 227ms/step - loss: 0.0391 - accuracy: 0.9867 - val_loss: 0.1424 - val_accuracy: 0.9754\n",
            "Epoch 79/100\n",
            "84/84 [==============================] - 19s 227ms/step - loss: 0.0418 - accuracy: 0.9877 - val_loss: 0.1010 - val_accuracy: 0.9799\n",
            "Epoch 80/100\n",
            "84/84 [==============================] - 20s 237ms/step - loss: 0.0496 - accuracy: 0.9843 - val_loss: 0.0984 - val_accuracy: 0.9777\n",
            "Epoch 81/100\n",
            "84/84 [==============================] - 19s 227ms/step - loss: 0.0438 - accuracy: 0.9864 - val_loss: 0.1096 - val_accuracy: 0.9788\n",
            "Epoch 82/100\n",
            "84/84 [==============================] - 20s 237ms/step - loss: 0.0404 - accuracy: 0.9863 - val_loss: 0.1393 - val_accuracy: 0.9784\n",
            "Epoch 83/100\n",
            "84/84 [==============================] - 19s 227ms/step - loss: 0.0494 - accuracy: 0.9847 - val_loss: 0.1199 - val_accuracy: 0.9795\n",
            "Epoch 84/100\n",
            "84/84 [==============================] - 19s 227ms/step - loss: 0.0756 - accuracy: 0.9780 - val_loss: 0.1171 - val_accuracy: 0.9777\n",
            "Epoch 85/100\n",
            "84/84 [==============================] - 19s 226ms/step - loss: 0.0438 - accuracy: 0.9862 - val_loss: 0.1011 - val_accuracy: 0.9788\n",
            "Epoch 86/100\n",
            "84/84 [==============================] - 20s 237ms/step - loss: 0.0341 - accuracy: 0.9893 - val_loss: 0.1378 - val_accuracy: 0.9769\n",
            "Epoch 87/100\n",
            "84/84 [==============================] - 19s 227ms/step - loss: 0.0443 - accuracy: 0.9853 - val_loss: 0.1181 - val_accuracy: 0.9818\n",
            "Epoch 88/100\n",
            "84/84 [==============================] - 19s 227ms/step - loss: 0.0389 - accuracy: 0.9886 - val_loss: 0.1146 - val_accuracy: 0.9792\n",
            "Epoch 89/100\n",
            "84/84 [==============================] - 19s 227ms/step - loss: 0.0447 - accuracy: 0.9860 - val_loss: 0.1071 - val_accuracy: 0.9814\n",
            "Epoch 90/100\n",
            "84/84 [==============================] - 19s 227ms/step - loss: 0.0402 - accuracy: 0.9882 - val_loss: 0.1086 - val_accuracy: 0.9795\n",
            "Epoch 91/100\n",
            "84/84 [==============================] - 19s 227ms/step - loss: 0.0280 - accuracy: 0.9913 - val_loss: 0.0995 - val_accuracy: 0.9810\n",
            "Epoch 92/100\n",
            "84/84 [==============================] - 19s 227ms/step - loss: 0.0348 - accuracy: 0.9891 - val_loss: 0.1058 - val_accuracy: 0.9825\n",
            "Epoch 93/100\n",
            "84/84 [==============================] - 20s 237ms/step - loss: 0.0304 - accuracy: 0.9914 - val_loss: 0.1058 - val_accuracy: 0.9792\n",
            "Epoch 94/100\n",
            "84/84 [==============================] - 20s 237ms/step - loss: 0.0315 - accuracy: 0.9899 - val_loss: 0.1042 - val_accuracy: 0.9781\n",
            "Epoch 95/100\n",
            "84/84 [==============================] - 20s 237ms/step - loss: 0.0331 - accuracy: 0.9900 - val_loss: 0.1147 - val_accuracy: 0.9814\n",
            "Epoch 96/100\n",
            "84/84 [==============================] - 19s 227ms/step - loss: 0.0312 - accuracy: 0.9903 - val_loss: 0.1111 - val_accuracy: 0.9818\n",
            "Epoch 97/100\n",
            "84/84 [==============================] - 20s 237ms/step - loss: 0.0320 - accuracy: 0.9895 - val_loss: 0.1292 - val_accuracy: 0.9799\n",
            "Epoch 98/100\n",
            "84/84 [==============================] - 19s 227ms/step - loss: 0.0288 - accuracy: 0.9919 - val_loss: 0.1283 - val_accuracy: 0.9818\n",
            "Epoch 99/100\n",
            "84/84 [==============================] - 20s 237ms/step - loss: 0.0441 - accuracy: 0.9861 - val_loss: 0.1216 - val_accuracy: 0.9777\n",
            "Epoch 100/100\n",
            "84/84 [==============================] - 20s 237ms/step - loss: 0.0379 - accuracy: 0.9889 - val_loss: 0.1178 - val_accuracy: 0.9781\n"
          ]
        }
      ],
      "source": [
        "history2 = model2.fit(datagen.flow(X_train, y_train, batch_size=128), validation_data=(X_valid, y_valid), epochs=100)"
      ]
    },
    {
      "cell_type": "code",
      "execution_count": 141,
      "metadata": {
        "colab": {
          "base_uri": "https://localhost:8080/",
          "height": 395
        },
        "id": "qMGXhk3AgPAg",
        "outputId": "5f4f94cc-7cc7-443a-e3a9-b03256ff7596"
      },
      "outputs": [
        {
          "data": {
            "text/plain": [
              "(0.0, 1.0)"
            ]
          },
          "execution_count": 141,
          "metadata": {},
          "output_type": "execute_result"
        },
        {
          "data": {
            "image/png": "[encoded data removed]",
            "text/plain": [
              "<Figure size 720x432 with 1 Axes>"
            ]
          },
          "metadata": {
            "needs_background": "light"
          },
          "output_type": "display_data"
        }
      ],
      "source": [
        "subset2 = {key: history2.history[key] for key in ['loss','val_loss']}\n",
        "ax = pd.DataFrame(subset2).plot(figsize=(10, 6));\n",
        "ax.set_ylim(0,1)"
      ]
    },
    {
      "cell_type": "code",
      "execution_count": 142,
      "metadata": {
        "colab": {
          "base_uri": "https://localhost:8080/"
        },
        "id": "Q1y7Ka1CgPAg",
        "outputId": "93f8bf83-6393-4a08-bfa3-380e7b1c0cbc"
      },
      "outputs": [
        {
          "name": "stdout",
          "output_type": "stream",
          "text": [
            "acc_val_data = 0.9780505895614624\n"
          ]
        }
      ],
      "source": [
        "loss_val_data, acc_val_data = model2.evaluate(X_valid, y_valid, verbose=0)\n",
        "print(f\"acc_val_data = {acc_val_data}\")"
      ]
    },
    {
      "cell_type": "markdown",
      "metadata": {
        "id": "HTOem0291-DB"
      },
      "source": [
        "#**Test Dataset**"
      ]
    },
    {
      "cell_type": "code",
      "execution_count": 143,
      "metadata": {
        "id": "E85Hmu0LHa0M"
      },
      "outputs": [],
      "source": [
        "test_df = pd.read_csv('/dataset/test.csv')\n"
      ]
    },
    {
      "cell_type": "code",
      "execution_count": 144,
      "metadata": {
        "colab": {
          "base_uri": "https://localhost:8080/"
        },
        "id": "jX42fjW7GnIA",
        "outputId": "8c2b692b-d642-4573-cda3-feb4e72c4ca7"
      },
      "outputs": [
        {
          "name": "stdout",
          "output_type": "stream",
          "text": [
            "train_full_set.shape => (3360, 32, 32, 3)\n"
          ]
        }
      ],
      "source": [
        "## read these all training images paths as Series\n",
        "test_imagas_path = Path(r'/dataset/test')\n",
        "\n",
        "\n",
        "test_images_paths = pd.Series(sorted(list(test_imagas_path.glob(r'*.png'))), name='Filepath').astype(str)\n",
        "test_full_set = np.empty((3360, 32, 32, 3), dtype=np.float32)  #take only the first 3 channels\n",
        "\n",
        "for idx, path in enumerate(test_images_paths):\n",
        "    img = plt.imread(path)\n",
        "    img = img[:,:,:3]\n",
        "    test_full_set[idx] = img\n",
        "\n",
        "print('train_full_set.shape =>', test_full_set.shape)\n"
      ]
    },
    {
      "cell_type": "code",
      "execution_count": 145,
      "metadata": {
        "id": "cmr3xUdRFhlX"
      },
      "outputs": [],
      "source": [
        "lebel_predict = model2.predict(test_full_set)\n",
        "testPredections = np.argmax(lebel_predict,axis=1)\n",
        "test_df['label']=testPredections\n",
        "test_df['alpha'] = test_df.label.map(m)"
      ]
    },
    {
      "cell_type": "code",
      "execution_count": 150,
      "metadata": {
        "colab": {
          "base_uri": "https://localhost:8080/",
          "height": 283
        },
        "id": "q1k5nFZ6gPAh",
        "outputId": "fc0efd6d-82ff-436a-d4d7-7e215d347ae5"
      },
      "outputs": [
        {
          "name": "stdout",
          "output_type": "stream",
          "text": [
            "Prediction:  ر  letter\n"
          ]
        },
        {
          "data": {
            "image/png": "[encoded data removed]",
            "text/plain": [
              "<Figure size 432x288 with 1 Axes>"
            ]
          },
          "metadata": {
            "needs_background": "light"
          },
          "output_type": "display_data"
        }
      ],
      "source": [
        "img = load_img('test/00001.png',color_mode='grayscale')\n",
        "plt.imshow(img)\n",
        "\n",
        "p = test_df['alpha'][1]\n",
        "print('Prediction: ',p,' letter') \n"
      ]
    },
    {
      "cell_type": "code",
      "execution_count": 151,
      "metadata": {
        "colab": {
          "base_uri": "https://localhost:8080/",
          "height": 283
        },
        "id": "iBnWrnXbHzzz",
        "outputId": "ad4db5ba-1ba7-41d1-fa79-914a1dd0b3df"
      },
      "outputs": [
        {
          "name": "stdout",
          "output_type": "stream",
          "text": [
            "Prediction:  أ  letter\n"
          ]
        },
        {
          "data": {
            "image/png": "[encoded data removed]",
            "text/plain": [
              "<Figure size 432x288 with 1 Axes>"
            ]
          },
          "metadata": {
            "needs_background": "light"
          },
          "output_type": "display_data"
        }
      ],
      "source": [
        "img = load_img('test/00002.png',color_mode='grayscale')\n",
        "plt.imshow(img)\n",
        "\n",
        "p = test_df['alpha'][2]\n",
        "print('Prediction: ',p,' letter') "
      ]
    },
    {
      "cell_type": "code",
      "execution_count": 152,
      "metadata": {
        "colab": {
          "base_uri": "https://localhost:8080/",
          "height": 283
        },
        "id": "ufIpp_fyCAVn",
        "outputId": "c853f58b-70fa-41c0-d0b5-eaa84c98127d"
      },
      "outputs": [
        {
          "name": "stdout",
          "output_type": "stream",
          "text": [
            "Prediction:  ض  letter\n"
          ]
        },
        {
          "data": {
            "image/png": "[encoded data removed]",
            "text/plain": [
              "<Figure size 432x288 with 1 Axes>"
            ]
          },
          "metadata": {
            "needs_background": "light"
          },
          "output_type": "display_data"
        }
      ],
      "source": [
        "img = load_img('test/00004.png',color_mode='grayscale')\n",
        "plt.imshow(img)\n",
        "\n",
        "p = test_df['alpha'][4]\n",
        "print('Prediction: ',p,' letter') "
      ]
    },
    {
      "cell_type": "code",
      "execution_count": null,
      "metadata": {
        "id": "Pgr0W-UIeHg8"
      },
      "outputs": [],
      "source": []
    }
  ],
  "metadata": {
    "accelerator": "GPU",
    "colab": {
      "name": "arabic-handwritten-characters-recognition.ipynb",
      "provenance": []
    },
    "kernelspec": {
      "display_name": "Python 3",
      "language": "python",
      "name": "python3"
    },
    "language_info": {
      "codemirror_mode": {
        "name": "ipython",
        "version": 3
      },
      "file_extension": ".py",
      "mimetype": "text/x-python",
      "name": "python",
      "nbconvert_exporter": "python",
      "pygments_lexer": "ipython3",
      "version": "3.8.8"
    }
  },
  "nbformat": 4,
  "nbformat_minor": 0
}
